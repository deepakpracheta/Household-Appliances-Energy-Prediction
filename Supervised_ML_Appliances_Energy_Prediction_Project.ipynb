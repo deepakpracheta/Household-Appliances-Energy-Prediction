{
  "nbformat": 4,
  "nbformat_minor": 0,
  "metadata": {
    "colab": {
      "name": "Supervised ML Appliances Energy Prediction Project.ipynb",
      "provenance": [],
      "collapsed_sections": [],
      "mount_file_id": "1ovWz2PS8kxOh3QanfjhWQW05Y2ykhVqC",
      "authorship_tag": "ABX9TyOtJ4pDBOOV4iwZrxrr3DPh",
      "include_colab_link": true
    },
    "kernelspec": {
      "name": "python3",
      "display_name": "Python 3"
    },
    "language_info": {
      "name": "python"
    }
  },
  "cells": [
    {
      "cell_type": "markdown",
      "metadata": {
        "id": "view-in-github",
        "colab_type": "text"
      },
      "source": [
        "<a href=\"https://colab.research.google.com/github/deepakpracheta/Supervised-ML-Regression-Appliances-Energy-Prediction/blob/main/Supervised_ML_Appliances_Energy_Prediction_Project.ipynb\" target=\"_parent\"><img src=\"https://colab.research.google.com/assets/colab-badge.svg\" alt=\"Open In Colab\"/></a>"
      ]
    },
    {
      "cell_type": "markdown",
      "source": [
        "\n",
        "Data-driven prediction of energy use of appliances\n",
        "\n",
        "\n",
        "The data set is at 10 min for about 4.5 months. The house temperature and humidity conditions\n",
        "were monitored with a ZigBee wireless sensor network. Each wireless node transmitted the\n",
        "temperature and humidity conditions around 3.3 min. Then, the wireless data was averaged for\n",
        "10 minutes periods. The energy data was logged every 10 minutes with m-bus energy meters.\n",
        "Weather from the nearest airport weather station (Chievres Airport, Belgium) was downloaded\n",
        "from a public data set from Reliable Prognosis (rp5.ru) and merged together with the\n",
        "experimental data sets using the date and time column. Two random variables have been\n",
        "included in the data set for testing the regression models and to filter out non-predictive attributes\n",
        "(parameters).\n"
      ],
      "metadata": {
        "id": "lQWunOec464b"
      }
    },
    {
      "cell_type": "code",
      "execution_count": null,
      "metadata": {
        "id": "n49ekzvs4tdH",
        "colab": {
          "base_uri": "https://localhost:8080/"
        },
        "outputId": "7200e0e5-f722-46fc-f6f6-97ce1dcb2966"
      },
      "outputs": [
        {
          "output_type": "stream",
          "name": "stdout",
          "text": [
            "Looking in indexes: https://pypi.org/simple, https://us-python.pkg.dev/colab-wheels/public/simple/\n",
            "Collecting scikit-optimize\n",
            "  Downloading scikit_optimize-0.9.0-py2.py3-none-any.whl (100 kB)\n",
            "\u001b[K     |████████████████████████████████| 100 kB 6.8 MB/s \n",
            "\u001b[?25hRequirement already satisfied: scikit-learn>=0.20.0 in /usr/local/lib/python3.7/dist-packages (from scikit-optimize) (1.0.2)\n",
            "Requirement already satisfied: numpy>=1.13.3 in /usr/local/lib/python3.7/dist-packages (from scikit-optimize) (1.21.6)\n",
            "Collecting pyaml>=16.9\n",
            "  Downloading pyaml-21.10.1-py2.py3-none-any.whl (24 kB)\n",
            "Requirement already satisfied: scipy>=0.19.1 in /usr/local/lib/python3.7/dist-packages (from scikit-optimize) (1.4.1)\n",
            "Requirement already satisfied: joblib>=0.11 in /usr/local/lib/python3.7/dist-packages (from scikit-optimize) (1.1.0)\n",
            "Requirement already satisfied: PyYAML in /usr/local/lib/python3.7/dist-packages (from pyaml>=16.9->scikit-optimize) (3.13)\n",
            "Requirement already satisfied: threadpoolctl>=2.0.0 in /usr/local/lib/python3.7/dist-packages (from scikit-learn>=0.20.0->scikit-optimize) (3.1.0)\n",
            "Installing collected packages: pyaml, scikit-optimize\n",
            "Successfully installed pyaml-21.10.1 scikit-optimize-0.9.0\n"
          ]
        }
      ],
      "source": [
        "#installing package\n",
        "!pip install scikit-optimize"
      ]
    },
    {
      "cell_type": "markdown",
      "source": [
        "# Importing Relevant Libraries"
      ],
      "metadata": {
        "id": "2Uu_MTbfd8mh"
      }
    },
    {
      "cell_type": "code",
      "source": [
        "# Importing the libraries\n",
        "import numpy as np\n",
        "import pandas as pd\n",
        "from numpy import math\n",
        "from sklearn.preprocessing import MinMaxScaler\n",
        "from sklearn.model_selection import train_test_split\n",
        "from sklearn.linear_model import LinearRegression\n",
        "from sklearn.preprocessing import PolynomialFeatures\n",
        "from sklearn.ensemble import RandomForestRegressor\n",
        "from sklearn.ensemble import GradientBoostingRegressor\n",
        "from xgboost import XGBRegressor\n",
        "from lightgbm import LGBMRegressor\n",
        "from sklearn.metrics import r2_score\n",
        "from sklearn.metrics import mean_squared_error\n",
        "from sklearn.metrics import mean_absolute_error\n",
        "import seaborn as sns\n",
        "import matplotlib.pyplot as plt\n",
        "import warnings\n",
        "warnings.filterwarnings('ignore')\n",
        "from sklearn.model_selection import RandomizedSearchCV"
      ],
      "metadata": {
        "id": "f902--U060S7"
      },
      "execution_count": 52,
      "outputs": []
    },
    {
      "cell_type": "code",
      "source": [
        "#Mounting Google Drive\n",
        "from google.colab import drive\n",
        "drive.mount('/content/drive')"
      ],
      "metadata": {
        "id": "eWtlarWuoy3r"
      },
      "execution_count": null,
      "outputs": []
    },
    {
      "cell_type": "code",
      "source": [
        "#importing dataset\n",
        "path='/content/drive/MyDrive/Capstone Projects/Supervised ML-Regression Appliances Energy Prediction/data_application_energy.csv'\n",
        "df=pd.read_csv(path)\n"
      ],
      "metadata": {
        "id": "Wqwv8bgZ6-ag"
      },
      "execution_count": 82,
      "outputs": []
    },
    {
      "cell_type": "code",
      "source": [
        "df.head().T"
      ],
      "metadata": {
        "colab": {
          "base_uri": "https://localhost:8080/",
          "height": 959
        },
        "id": "iGqHBuHh7b5E",
        "outputId": "e8e1a319-04cf-4539-ea4b-e6513d0bc925"
      },
      "execution_count": 83,
      "outputs": [
        {
          "output_type": "execute_result",
          "data": {
            "text/plain": [
              "                               0                    1                    2  \\\n",
              "date         2016-01-11 17:00:00  2016-01-11 17:10:00  2016-01-11 17:20:00   \n",
              "Appliances                    60                   60                   50   \n",
              "lights                        30                   30                   30   \n",
              "T1                         19.89                19.89                19.89   \n",
              "RH_1                   47.596667            46.693333                 46.3   \n",
              "T2                          19.2                 19.2                 19.2   \n",
              "RH_2                       44.79              44.7225            44.626667   \n",
              "T3                         19.79                19.79                19.79   \n",
              "RH_3                       44.73                44.79            44.933333   \n",
              "T4                          19.0                 19.0            18.926667   \n",
              "RH_4                   45.566667              45.9925                45.89   \n",
              "T5                     17.166667            17.166667            17.166667   \n",
              "RH_5                        55.2                 55.2                55.09   \n",
              "T6                      7.026667             6.833333                 6.56   \n",
              "RH_6                   84.256667            84.063333            83.156667   \n",
              "T7                          17.2                 17.2                 17.2   \n",
              "RH_7                   41.626667                41.56            41.433333   \n",
              "T8                          18.2                 18.2                 18.2   \n",
              "RH_8                        48.9            48.863333                48.73   \n",
              "T9                     17.033333            17.066667                 17.0   \n",
              "RH_9                       45.53                45.56                 45.5   \n",
              "T_out                        6.6             6.483333             6.366667   \n",
              "Press_mm_hg                733.5                733.6                733.7   \n",
              "RH_out                      92.0                 92.0                 92.0   \n",
              "Windspeed                    7.0             6.666667             6.333333   \n",
              "Visibility                  63.0            59.166667            55.333333   \n",
              "Tdewpoint                    5.3                  5.2                  5.1   \n",
              "rv1                    13.275433            18.606195            28.642668   \n",
              "rv2                    13.275433            18.606195            28.642668   \n",
              "\n",
              "                               3                    4  \n",
              "date         2016-01-11 17:30:00  2016-01-11 17:40:00  \n",
              "Appliances                    50                   60  \n",
              "lights                        40                   40  \n",
              "T1                         19.89                19.89  \n",
              "RH_1                   46.066667            46.333333  \n",
              "T2                          19.2                 19.2  \n",
              "RH_2                       44.59                44.53  \n",
              "T3                         19.79                19.79  \n",
              "RH_3                        45.0                 45.0  \n",
              "T4                         18.89                18.89  \n",
              "RH_4                   45.723333                45.53  \n",
              "T5                     17.166667                 17.2  \n",
              "RH_5                       55.09                55.09  \n",
              "T6                      6.433333             6.366667  \n",
              "RH_6                   83.423333            84.893333  \n",
              "T7                     17.133333                 17.2  \n",
              "RH_7                       41.29                41.23  \n",
              "T8                          18.1                 18.1  \n",
              "RH_8                       48.59                48.59  \n",
              "T9                          17.0                 17.0  \n",
              "RH_9                        45.4                 45.4  \n",
              "T_out                       6.25             6.133333  \n",
              "Press_mm_hg                733.8                733.9  \n",
              "RH_out                      92.0                 92.0  \n",
              "Windspeed                    6.0             5.666667  \n",
              "Visibility                  51.5            47.666667  \n",
              "Tdewpoint                    5.0                  4.9  \n",
              "rv1                    45.410389            10.084097  \n",
              "rv2                    45.410389            10.084097  "
            ],
            "text/html": [
              "\n",
              "  <div id=\"df-d075f5e8-0f43-4541-ae89-3c53b379847d\">\n",
              "    <div class=\"colab-df-container\">\n",
              "      <div>\n",
              "<style scoped>\n",
              "    .dataframe tbody tr th:only-of-type {\n",
              "        vertical-align: middle;\n",
              "    }\n",
              "\n",
              "    .dataframe tbody tr th {\n",
              "        vertical-align: top;\n",
              "    }\n",
              "\n",
              "    .dataframe thead th {\n",
              "        text-align: right;\n",
              "    }\n",
              "</style>\n",
              "<table border=\"1\" class=\"dataframe\">\n",
              "  <thead>\n",
              "    <tr style=\"text-align: right;\">\n",
              "      <th></th>\n",
              "      <th>0</th>\n",
              "      <th>1</th>\n",
              "      <th>2</th>\n",
              "      <th>3</th>\n",
              "      <th>4</th>\n",
              "    </tr>\n",
              "  </thead>\n",
              "  <tbody>\n",
              "    <tr>\n",
              "      <th>date</th>\n",
              "      <td>2016-01-11 17:00:00</td>\n",
              "      <td>2016-01-11 17:10:00</td>\n",
              "      <td>2016-01-11 17:20:00</td>\n",
              "      <td>2016-01-11 17:30:00</td>\n",
              "      <td>2016-01-11 17:40:00</td>\n",
              "    </tr>\n",
              "    <tr>\n",
              "      <th>Appliances</th>\n",
              "      <td>60</td>\n",
              "      <td>60</td>\n",
              "      <td>50</td>\n",
              "      <td>50</td>\n",
              "      <td>60</td>\n",
              "    </tr>\n",
              "    <tr>\n",
              "      <th>lights</th>\n",
              "      <td>30</td>\n",
              "      <td>30</td>\n",
              "      <td>30</td>\n",
              "      <td>40</td>\n",
              "      <td>40</td>\n",
              "    </tr>\n",
              "    <tr>\n",
              "      <th>T1</th>\n",
              "      <td>19.89</td>\n",
              "      <td>19.89</td>\n",
              "      <td>19.89</td>\n",
              "      <td>19.89</td>\n",
              "      <td>19.89</td>\n",
              "    </tr>\n",
              "    <tr>\n",
              "      <th>RH_1</th>\n",
              "      <td>47.596667</td>\n",
              "      <td>46.693333</td>\n",
              "      <td>46.3</td>\n",
              "      <td>46.066667</td>\n",
              "      <td>46.333333</td>\n",
              "    </tr>\n",
              "    <tr>\n",
              "      <th>T2</th>\n",
              "      <td>19.2</td>\n",
              "      <td>19.2</td>\n",
              "      <td>19.2</td>\n",
              "      <td>19.2</td>\n",
              "      <td>19.2</td>\n",
              "    </tr>\n",
              "    <tr>\n",
              "      <th>RH_2</th>\n",
              "      <td>44.79</td>\n",
              "      <td>44.7225</td>\n",
              "      <td>44.626667</td>\n",
              "      <td>44.59</td>\n",
              "      <td>44.53</td>\n",
              "    </tr>\n",
              "    <tr>\n",
              "      <th>T3</th>\n",
              "      <td>19.79</td>\n",
              "      <td>19.79</td>\n",
              "      <td>19.79</td>\n",
              "      <td>19.79</td>\n",
              "      <td>19.79</td>\n",
              "    </tr>\n",
              "    <tr>\n",
              "      <th>RH_3</th>\n",
              "      <td>44.73</td>\n",
              "      <td>44.79</td>\n",
              "      <td>44.933333</td>\n",
              "      <td>45.0</td>\n",
              "      <td>45.0</td>\n",
              "    </tr>\n",
              "    <tr>\n",
              "      <th>T4</th>\n",
              "      <td>19.0</td>\n",
              "      <td>19.0</td>\n",
              "      <td>18.926667</td>\n",
              "      <td>18.89</td>\n",
              "      <td>18.89</td>\n",
              "    </tr>\n",
              "    <tr>\n",
              "      <th>RH_4</th>\n",
              "      <td>45.566667</td>\n",
              "      <td>45.9925</td>\n",
              "      <td>45.89</td>\n",
              "      <td>45.723333</td>\n",
              "      <td>45.53</td>\n",
              "    </tr>\n",
              "    <tr>\n",
              "      <th>T5</th>\n",
              "      <td>17.166667</td>\n",
              "      <td>17.166667</td>\n",
              "      <td>17.166667</td>\n",
              "      <td>17.166667</td>\n",
              "      <td>17.2</td>\n",
              "    </tr>\n",
              "    <tr>\n",
              "      <th>RH_5</th>\n",
              "      <td>55.2</td>\n",
              "      <td>55.2</td>\n",
              "      <td>55.09</td>\n",
              "      <td>55.09</td>\n",
              "      <td>55.09</td>\n",
              "    </tr>\n",
              "    <tr>\n",
              "      <th>T6</th>\n",
              "      <td>7.026667</td>\n",
              "      <td>6.833333</td>\n",
              "      <td>6.56</td>\n",
              "      <td>6.433333</td>\n",
              "      <td>6.366667</td>\n",
              "    </tr>\n",
              "    <tr>\n",
              "      <th>RH_6</th>\n",
              "      <td>84.256667</td>\n",
              "      <td>84.063333</td>\n",
              "      <td>83.156667</td>\n",
              "      <td>83.423333</td>\n",
              "      <td>84.893333</td>\n",
              "    </tr>\n",
              "    <tr>\n",
              "      <th>T7</th>\n",
              "      <td>17.2</td>\n",
              "      <td>17.2</td>\n",
              "      <td>17.2</td>\n",
              "      <td>17.133333</td>\n",
              "      <td>17.2</td>\n",
              "    </tr>\n",
              "    <tr>\n",
              "      <th>RH_7</th>\n",
              "      <td>41.626667</td>\n",
              "      <td>41.56</td>\n",
              "      <td>41.433333</td>\n",
              "      <td>41.29</td>\n",
              "      <td>41.23</td>\n",
              "    </tr>\n",
              "    <tr>\n",
              "      <th>T8</th>\n",
              "      <td>18.2</td>\n",
              "      <td>18.2</td>\n",
              "      <td>18.2</td>\n",
              "      <td>18.1</td>\n",
              "      <td>18.1</td>\n",
              "    </tr>\n",
              "    <tr>\n",
              "      <th>RH_8</th>\n",
              "      <td>48.9</td>\n",
              "      <td>48.863333</td>\n",
              "      <td>48.73</td>\n",
              "      <td>48.59</td>\n",
              "      <td>48.59</td>\n",
              "    </tr>\n",
              "    <tr>\n",
              "      <th>T9</th>\n",
              "      <td>17.033333</td>\n",
              "      <td>17.066667</td>\n",
              "      <td>17.0</td>\n",
              "      <td>17.0</td>\n",
              "      <td>17.0</td>\n",
              "    </tr>\n",
              "    <tr>\n",
              "      <th>RH_9</th>\n",
              "      <td>45.53</td>\n",
              "      <td>45.56</td>\n",
              "      <td>45.5</td>\n",
              "      <td>45.4</td>\n",
              "      <td>45.4</td>\n",
              "    </tr>\n",
              "    <tr>\n",
              "      <th>T_out</th>\n",
              "      <td>6.6</td>\n",
              "      <td>6.483333</td>\n",
              "      <td>6.366667</td>\n",
              "      <td>6.25</td>\n",
              "      <td>6.133333</td>\n",
              "    </tr>\n",
              "    <tr>\n",
              "      <th>Press_mm_hg</th>\n",
              "      <td>733.5</td>\n",
              "      <td>733.6</td>\n",
              "      <td>733.7</td>\n",
              "      <td>733.8</td>\n",
              "      <td>733.9</td>\n",
              "    </tr>\n",
              "    <tr>\n",
              "      <th>RH_out</th>\n",
              "      <td>92.0</td>\n",
              "      <td>92.0</td>\n",
              "      <td>92.0</td>\n",
              "      <td>92.0</td>\n",
              "      <td>92.0</td>\n",
              "    </tr>\n",
              "    <tr>\n",
              "      <th>Windspeed</th>\n",
              "      <td>7.0</td>\n",
              "      <td>6.666667</td>\n",
              "      <td>6.333333</td>\n",
              "      <td>6.0</td>\n",
              "      <td>5.666667</td>\n",
              "    </tr>\n",
              "    <tr>\n",
              "      <th>Visibility</th>\n",
              "      <td>63.0</td>\n",
              "      <td>59.166667</td>\n",
              "      <td>55.333333</td>\n",
              "      <td>51.5</td>\n",
              "      <td>47.666667</td>\n",
              "    </tr>\n",
              "    <tr>\n",
              "      <th>Tdewpoint</th>\n",
              "      <td>5.3</td>\n",
              "      <td>5.2</td>\n",
              "      <td>5.1</td>\n",
              "      <td>5.0</td>\n",
              "      <td>4.9</td>\n",
              "    </tr>\n",
              "    <tr>\n",
              "      <th>rv1</th>\n",
              "      <td>13.275433</td>\n",
              "      <td>18.606195</td>\n",
              "      <td>28.642668</td>\n",
              "      <td>45.410389</td>\n",
              "      <td>10.084097</td>\n",
              "    </tr>\n",
              "    <tr>\n",
              "      <th>rv2</th>\n",
              "      <td>13.275433</td>\n",
              "      <td>18.606195</td>\n",
              "      <td>28.642668</td>\n",
              "      <td>45.410389</td>\n",
              "      <td>10.084097</td>\n",
              "    </tr>\n",
              "  </tbody>\n",
              "</table>\n",
              "</div>\n",
              "      <button class=\"colab-df-convert\" onclick=\"convertToInteractive('df-d075f5e8-0f43-4541-ae89-3c53b379847d')\"\n",
              "              title=\"Convert this dataframe to an interactive table.\"\n",
              "              style=\"display:none;\">\n",
              "        \n",
              "  <svg xmlns=\"http://www.w3.org/2000/svg\" height=\"24px\"viewBox=\"0 0 24 24\"\n",
              "       width=\"24px\">\n",
              "    <path d=\"M0 0h24v24H0V0z\" fill=\"none\"/>\n",
              "    <path d=\"M18.56 5.44l.94 2.06.94-2.06 2.06-.94-2.06-.94-.94-2.06-.94 2.06-2.06.94zm-11 1L8.5 8.5l.94-2.06 2.06-.94-2.06-.94L8.5 2.5l-.94 2.06-2.06.94zm10 10l.94 2.06.94-2.06 2.06-.94-2.06-.94-.94-2.06-.94 2.06-2.06.94z\"/><path d=\"M17.41 7.96l-1.37-1.37c-.4-.4-.92-.59-1.43-.59-.52 0-1.04.2-1.43.59L10.3 9.45l-7.72 7.72c-.78.78-.78 2.05 0 2.83L4 21.41c.39.39.9.59 1.41.59.51 0 1.02-.2 1.41-.59l7.78-7.78 2.81-2.81c.8-.78.8-2.07 0-2.86zM5.41 20L4 18.59l7.72-7.72 1.47 1.35L5.41 20z\"/>\n",
              "  </svg>\n",
              "      </button>\n",
              "      \n",
              "  <style>\n",
              "    .colab-df-container {\n",
              "      display:flex;\n",
              "      flex-wrap:wrap;\n",
              "      gap: 12px;\n",
              "    }\n",
              "\n",
              "    .colab-df-convert {\n",
              "      background-color: #E8F0FE;\n",
              "      border: none;\n",
              "      border-radius: 50%;\n",
              "      cursor: pointer;\n",
              "      display: none;\n",
              "      fill: #1967D2;\n",
              "      height: 32px;\n",
              "      padding: 0 0 0 0;\n",
              "      width: 32px;\n",
              "    }\n",
              "\n",
              "    .colab-df-convert:hover {\n",
              "      background-color: #E2EBFA;\n",
              "      box-shadow: 0px 1px 2px rgba(60, 64, 67, 0.3), 0px 1px 3px 1px rgba(60, 64, 67, 0.15);\n",
              "      fill: #174EA6;\n",
              "    }\n",
              "\n",
              "    [theme=dark] .colab-df-convert {\n",
              "      background-color: #3B4455;\n",
              "      fill: #D2E3FC;\n",
              "    }\n",
              "\n",
              "    [theme=dark] .colab-df-convert:hover {\n",
              "      background-color: #434B5C;\n",
              "      box-shadow: 0px 1px 3px 1px rgba(0, 0, 0, 0.15);\n",
              "      filter: drop-shadow(0px 1px 2px rgba(0, 0, 0, 0.3));\n",
              "      fill: #FFFFFF;\n",
              "    }\n",
              "  </style>\n",
              "\n",
              "      <script>\n",
              "        const buttonEl =\n",
              "          document.querySelector('#df-d075f5e8-0f43-4541-ae89-3c53b379847d button.colab-df-convert');\n",
              "        buttonEl.style.display =\n",
              "          google.colab.kernel.accessAllowed ? 'block' : 'none';\n",
              "\n",
              "        async function convertToInteractive(key) {\n",
              "          const element = document.querySelector('#df-d075f5e8-0f43-4541-ae89-3c53b379847d');\n",
              "          const dataTable =\n",
              "            await google.colab.kernel.invokeFunction('convertToInteractive',\n",
              "                                                     [key], {});\n",
              "          if (!dataTable) return;\n",
              "\n",
              "          const docLinkHtml = 'Like what you see? Visit the ' +\n",
              "            '<a target=\"_blank\" href=https://colab.research.google.com/notebooks/data_table.ipynb>data table notebook</a>'\n",
              "            + ' to learn more about interactive tables.';\n",
              "          element.innerHTML = '';\n",
              "          dataTable['output_type'] = 'display_data';\n",
              "          await google.colab.output.renderOutput(dataTable, element);\n",
              "          const docLink = document.createElement('div');\n",
              "          docLink.innerHTML = docLinkHtml;\n",
              "          element.appendChild(docLink);\n",
              "        }\n",
              "      </script>\n",
              "    </div>\n",
              "  </div>\n",
              "  "
            ]
          },
          "metadata": {},
          "execution_count": 83
        }
      ]
    },
    {
      "cell_type": "code",
      "source": [
        "df.info()"
      ],
      "metadata": {
        "colab": {
          "base_uri": "https://localhost:8080/"
        },
        "id": "xWWgH3B7zXI8",
        "outputId": "fbd7312e-00db-46c1-da22-954c9605c095"
      },
      "execution_count": 84,
      "outputs": [
        {
          "output_type": "stream",
          "name": "stdout",
          "text": [
            "<class 'pandas.core.frame.DataFrame'>\n",
            "RangeIndex: 19735 entries, 0 to 19734\n",
            "Data columns (total 29 columns):\n",
            " #   Column       Non-Null Count  Dtype  \n",
            "---  ------       --------------  -----  \n",
            " 0   date         19735 non-null  object \n",
            " 1   Appliances   19735 non-null  int64  \n",
            " 2   lights       19735 non-null  int64  \n",
            " 3   T1           19735 non-null  float64\n",
            " 4   RH_1         19735 non-null  float64\n",
            " 5   T2           19735 non-null  float64\n",
            " 6   RH_2         19735 non-null  float64\n",
            " 7   T3           19735 non-null  float64\n",
            " 8   RH_3         19735 non-null  float64\n",
            " 9   T4           19735 non-null  float64\n",
            " 10  RH_4         19735 non-null  float64\n",
            " 11  T5           19735 non-null  float64\n",
            " 12  RH_5         19735 non-null  float64\n",
            " 13  T6           19735 non-null  float64\n",
            " 14  RH_6         19735 non-null  float64\n",
            " 15  T7           19735 non-null  float64\n",
            " 16  RH_7         19735 non-null  float64\n",
            " 17  T8           19735 non-null  float64\n",
            " 18  RH_8         19735 non-null  float64\n",
            " 19  T9           19735 non-null  float64\n",
            " 20  RH_9         19735 non-null  float64\n",
            " 21  T_out        19735 non-null  float64\n",
            " 22  Press_mm_hg  19735 non-null  float64\n",
            " 23  RH_out       19735 non-null  float64\n",
            " 24  Windspeed    19735 non-null  float64\n",
            " 25  Visibility   19735 non-null  float64\n",
            " 26  Tdewpoint    19735 non-null  float64\n",
            " 27  rv1          19735 non-null  float64\n",
            " 28  rv2          19735 non-null  float64\n",
            "dtypes: float64(26), int64(2), object(1)\n",
            "memory usage: 4.4+ MB\n"
          ]
        }
      ]
    },
    {
      "cell_type": "markdown",
      "source": [
        "**In our dataset all columns are numerical type except date column which is of date-time format.**\n",
        "\n",
        "**Target Variable is Appliances** "
      ],
      "metadata": {
        "id": "rnz8Eb3TzxP3"
      }
    },
    {
      "cell_type": "code",
      "source": [
        "df.shape"
      ],
      "metadata": {
        "colab": {
          "base_uri": "https://localhost:8080/"
        },
        "id": "QKROEe-z7ckO",
        "outputId": "3236782b-1586-4b3d-c606-6bb82547e63d"
      },
      "execution_count": 85,
      "outputs": [
        {
          "output_type": "execute_result",
          "data": {
            "text/plain": [
              "(19735, 29)"
            ]
          },
          "metadata": {},
          "execution_count": 85
        }
      ]
    },
    {
      "cell_type": "markdown",
      "source": [
        "In our dataset there are 29 columns and 19735 rows."
      ],
      "metadata": {
        "id": "ccRNv-3FzFLl"
      }
    },
    {
      "cell_type": "code",
      "source": [
        "df.describe()"
      ],
      "metadata": {
        "colab": {
          "base_uri": "https://localhost:8080/",
          "height": 394
        },
        "id": "frZoe0Io7iad",
        "outputId": "5388b333-75b0-48f0-82ba-6feca81b55ee"
      },
      "execution_count": 86,
      "outputs": [
        {
          "output_type": "execute_result",
          "data": {
            "text/plain": [
              "         Appliances        lights            T1          RH_1            T2  \\\n",
              "count  19735.000000  19735.000000  19735.000000  19735.000000  19735.000000   \n",
              "mean      97.694958      3.801875     21.686571     40.259739     20.341219   \n",
              "std      102.524891      7.935988      1.606066      3.979299      2.192974   \n",
              "min       10.000000      0.000000     16.790000     27.023333     16.100000   \n",
              "25%       50.000000      0.000000     20.760000     37.333333     18.790000   \n",
              "50%       60.000000      0.000000     21.600000     39.656667     20.000000   \n",
              "75%      100.000000      0.000000     22.600000     43.066667     21.500000   \n",
              "max     1080.000000     70.000000     26.260000     63.360000     29.856667   \n",
              "\n",
              "               RH_2            T3          RH_3            T4          RH_4  \\\n",
              "count  19735.000000  19735.000000  19735.000000  19735.000000  19735.000000   \n",
              "mean      40.420420     22.267611     39.242500     20.855335     39.026904   \n",
              "std        4.069813      2.006111      3.254576      2.042884      4.341321   \n",
              "min       20.463333     17.200000     28.766667     15.100000     27.660000   \n",
              "25%       37.900000     20.790000     36.900000     19.530000     35.530000   \n",
              "50%       40.500000     22.100000     38.530000     20.666667     38.400000   \n",
              "75%       43.260000     23.290000     41.760000     22.100000     42.156667   \n",
              "max       56.026667     29.236000     50.163333     26.200000     51.090000   \n",
              "\n",
              "       ...            T9          RH_9         T_out   Press_mm_hg  \\\n",
              "count  ...  19735.000000  19735.000000  19735.000000  19735.000000   \n",
              "mean   ...     19.485828     41.552401      7.411665    755.522602   \n",
              "std    ...      2.014712      4.151497      5.317409      7.399441   \n",
              "min    ...     14.890000     29.166667     -5.000000    729.300000   \n",
              "25%    ...     18.000000     38.500000      3.666667    750.933333   \n",
              "50%    ...     19.390000     40.900000      6.916667    756.100000   \n",
              "75%    ...     20.600000     44.338095     10.408333    760.933333   \n",
              "max    ...     24.500000     53.326667     26.100000    772.300000   \n",
              "\n",
              "             RH_out     Windspeed    Visibility     Tdewpoint           rv1  \\\n",
              "count  19735.000000  19735.000000  19735.000000  19735.000000  19735.000000   \n",
              "mean      79.750418      4.039752     38.330834      3.760707     24.988033   \n",
              "std       14.901088      2.451221     11.794719      4.194648     14.496634   \n",
              "min       24.000000      0.000000      1.000000     -6.600000      0.005322   \n",
              "25%       70.333333      2.000000     29.000000      0.900000     12.497889   \n",
              "50%       83.666667      3.666667     40.000000      3.433333     24.897653   \n",
              "75%       91.666667      5.500000     40.000000      6.566667     37.583769   \n",
              "max      100.000000     14.000000     66.000000     15.500000     49.996530   \n",
              "\n",
              "                rv2  \n",
              "count  19735.000000  \n",
              "mean      24.988033  \n",
              "std       14.496634  \n",
              "min        0.005322  \n",
              "25%       12.497889  \n",
              "50%       24.897653  \n",
              "75%       37.583769  \n",
              "max       49.996530  \n",
              "\n",
              "[8 rows x 28 columns]"
            ],
            "text/html": [
              "\n",
              "  <div id=\"df-52bf82a2-c3c7-4db2-a5db-03af49bd24a9\">\n",
              "    <div class=\"colab-df-container\">\n",
              "      <div>\n",
              "<style scoped>\n",
              "    .dataframe tbody tr th:only-of-type {\n",
              "        vertical-align: middle;\n",
              "    }\n",
              "\n",
              "    .dataframe tbody tr th {\n",
              "        vertical-align: top;\n",
              "    }\n",
              "\n",
              "    .dataframe thead th {\n",
              "        text-align: right;\n",
              "    }\n",
              "</style>\n",
              "<table border=\"1\" class=\"dataframe\">\n",
              "  <thead>\n",
              "    <tr style=\"text-align: right;\">\n",
              "      <th></th>\n",
              "      <th>Appliances</th>\n",
              "      <th>lights</th>\n",
              "      <th>T1</th>\n",
              "      <th>RH_1</th>\n",
              "      <th>T2</th>\n",
              "      <th>RH_2</th>\n",
              "      <th>T3</th>\n",
              "      <th>RH_3</th>\n",
              "      <th>T4</th>\n",
              "      <th>RH_4</th>\n",
              "      <th>...</th>\n",
              "      <th>T9</th>\n",
              "      <th>RH_9</th>\n",
              "      <th>T_out</th>\n",
              "      <th>Press_mm_hg</th>\n",
              "      <th>RH_out</th>\n",
              "      <th>Windspeed</th>\n",
              "      <th>Visibility</th>\n",
              "      <th>Tdewpoint</th>\n",
              "      <th>rv1</th>\n",
              "      <th>rv2</th>\n",
              "    </tr>\n",
              "  </thead>\n",
              "  <tbody>\n",
              "    <tr>\n",
              "      <th>count</th>\n",
              "      <td>19735.000000</td>\n",
              "      <td>19735.000000</td>\n",
              "      <td>19735.000000</td>\n",
              "      <td>19735.000000</td>\n",
              "      <td>19735.000000</td>\n",
              "      <td>19735.000000</td>\n",
              "      <td>19735.000000</td>\n",
              "      <td>19735.000000</td>\n",
              "      <td>19735.000000</td>\n",
              "      <td>19735.000000</td>\n",
              "      <td>...</td>\n",
              "      <td>19735.000000</td>\n",
              "      <td>19735.000000</td>\n",
              "      <td>19735.000000</td>\n",
              "      <td>19735.000000</td>\n",
              "      <td>19735.000000</td>\n",
              "      <td>19735.000000</td>\n",
              "      <td>19735.000000</td>\n",
              "      <td>19735.000000</td>\n",
              "      <td>19735.000000</td>\n",
              "      <td>19735.000000</td>\n",
              "    </tr>\n",
              "    <tr>\n",
              "      <th>mean</th>\n",
              "      <td>97.694958</td>\n",
              "      <td>3.801875</td>\n",
              "      <td>21.686571</td>\n",
              "      <td>40.259739</td>\n",
              "      <td>20.341219</td>\n",
              "      <td>40.420420</td>\n",
              "      <td>22.267611</td>\n",
              "      <td>39.242500</td>\n",
              "      <td>20.855335</td>\n",
              "      <td>39.026904</td>\n",
              "      <td>...</td>\n",
              "      <td>19.485828</td>\n",
              "      <td>41.552401</td>\n",
              "      <td>7.411665</td>\n",
              "      <td>755.522602</td>\n",
              "      <td>79.750418</td>\n",
              "      <td>4.039752</td>\n",
              "      <td>38.330834</td>\n",
              "      <td>3.760707</td>\n",
              "      <td>24.988033</td>\n",
              "      <td>24.988033</td>\n",
              "    </tr>\n",
              "    <tr>\n",
              "      <th>std</th>\n",
              "      <td>102.524891</td>\n",
              "      <td>7.935988</td>\n",
              "      <td>1.606066</td>\n",
              "      <td>3.979299</td>\n",
              "      <td>2.192974</td>\n",
              "      <td>4.069813</td>\n",
              "      <td>2.006111</td>\n",
              "      <td>3.254576</td>\n",
              "      <td>2.042884</td>\n",
              "      <td>4.341321</td>\n",
              "      <td>...</td>\n",
              "      <td>2.014712</td>\n",
              "      <td>4.151497</td>\n",
              "      <td>5.317409</td>\n",
              "      <td>7.399441</td>\n",
              "      <td>14.901088</td>\n",
              "      <td>2.451221</td>\n",
              "      <td>11.794719</td>\n",
              "      <td>4.194648</td>\n",
              "      <td>14.496634</td>\n",
              "      <td>14.496634</td>\n",
              "    </tr>\n",
              "    <tr>\n",
              "      <th>min</th>\n",
              "      <td>10.000000</td>\n",
              "      <td>0.000000</td>\n",
              "      <td>16.790000</td>\n",
              "      <td>27.023333</td>\n",
              "      <td>16.100000</td>\n",
              "      <td>20.463333</td>\n",
              "      <td>17.200000</td>\n",
              "      <td>28.766667</td>\n",
              "      <td>15.100000</td>\n",
              "      <td>27.660000</td>\n",
              "      <td>...</td>\n",
              "      <td>14.890000</td>\n",
              "      <td>29.166667</td>\n",
              "      <td>-5.000000</td>\n",
              "      <td>729.300000</td>\n",
              "      <td>24.000000</td>\n",
              "      <td>0.000000</td>\n",
              "      <td>1.000000</td>\n",
              "      <td>-6.600000</td>\n",
              "      <td>0.005322</td>\n",
              "      <td>0.005322</td>\n",
              "    </tr>\n",
              "    <tr>\n",
              "      <th>25%</th>\n",
              "      <td>50.000000</td>\n",
              "      <td>0.000000</td>\n",
              "      <td>20.760000</td>\n",
              "      <td>37.333333</td>\n",
              "      <td>18.790000</td>\n",
              "      <td>37.900000</td>\n",
              "      <td>20.790000</td>\n",
              "      <td>36.900000</td>\n",
              "      <td>19.530000</td>\n",
              "      <td>35.530000</td>\n",
              "      <td>...</td>\n",
              "      <td>18.000000</td>\n",
              "      <td>38.500000</td>\n",
              "      <td>3.666667</td>\n",
              "      <td>750.933333</td>\n",
              "      <td>70.333333</td>\n",
              "      <td>2.000000</td>\n",
              "      <td>29.000000</td>\n",
              "      <td>0.900000</td>\n",
              "      <td>12.497889</td>\n",
              "      <td>12.497889</td>\n",
              "    </tr>\n",
              "    <tr>\n",
              "      <th>50%</th>\n",
              "      <td>60.000000</td>\n",
              "      <td>0.000000</td>\n",
              "      <td>21.600000</td>\n",
              "      <td>39.656667</td>\n",
              "      <td>20.000000</td>\n",
              "      <td>40.500000</td>\n",
              "      <td>22.100000</td>\n",
              "      <td>38.530000</td>\n",
              "      <td>20.666667</td>\n",
              "      <td>38.400000</td>\n",
              "      <td>...</td>\n",
              "      <td>19.390000</td>\n",
              "      <td>40.900000</td>\n",
              "      <td>6.916667</td>\n",
              "      <td>756.100000</td>\n",
              "      <td>83.666667</td>\n",
              "      <td>3.666667</td>\n",
              "      <td>40.000000</td>\n",
              "      <td>3.433333</td>\n",
              "      <td>24.897653</td>\n",
              "      <td>24.897653</td>\n",
              "    </tr>\n",
              "    <tr>\n",
              "      <th>75%</th>\n",
              "      <td>100.000000</td>\n",
              "      <td>0.000000</td>\n",
              "      <td>22.600000</td>\n",
              "      <td>43.066667</td>\n",
              "      <td>21.500000</td>\n",
              "      <td>43.260000</td>\n",
              "      <td>23.290000</td>\n",
              "      <td>41.760000</td>\n",
              "      <td>22.100000</td>\n",
              "      <td>42.156667</td>\n",
              "      <td>...</td>\n",
              "      <td>20.600000</td>\n",
              "      <td>44.338095</td>\n",
              "      <td>10.408333</td>\n",
              "      <td>760.933333</td>\n",
              "      <td>91.666667</td>\n",
              "      <td>5.500000</td>\n",
              "      <td>40.000000</td>\n",
              "      <td>6.566667</td>\n",
              "      <td>37.583769</td>\n",
              "      <td>37.583769</td>\n",
              "    </tr>\n",
              "    <tr>\n",
              "      <th>max</th>\n",
              "      <td>1080.000000</td>\n",
              "      <td>70.000000</td>\n",
              "      <td>26.260000</td>\n",
              "      <td>63.360000</td>\n",
              "      <td>29.856667</td>\n",
              "      <td>56.026667</td>\n",
              "      <td>29.236000</td>\n",
              "      <td>50.163333</td>\n",
              "      <td>26.200000</td>\n",
              "      <td>51.090000</td>\n",
              "      <td>...</td>\n",
              "      <td>24.500000</td>\n",
              "      <td>53.326667</td>\n",
              "      <td>26.100000</td>\n",
              "      <td>772.300000</td>\n",
              "      <td>100.000000</td>\n",
              "      <td>14.000000</td>\n",
              "      <td>66.000000</td>\n",
              "      <td>15.500000</td>\n",
              "      <td>49.996530</td>\n",
              "      <td>49.996530</td>\n",
              "    </tr>\n",
              "  </tbody>\n",
              "</table>\n",
              "<p>8 rows × 28 columns</p>\n",
              "</div>\n",
              "      <button class=\"colab-df-convert\" onclick=\"convertToInteractive('df-52bf82a2-c3c7-4db2-a5db-03af49bd24a9')\"\n",
              "              title=\"Convert this dataframe to an interactive table.\"\n",
              "              style=\"display:none;\">\n",
              "        \n",
              "  <svg xmlns=\"http://www.w3.org/2000/svg\" height=\"24px\"viewBox=\"0 0 24 24\"\n",
              "       width=\"24px\">\n",
              "    <path d=\"M0 0h24v24H0V0z\" fill=\"none\"/>\n",
              "    <path d=\"M18.56 5.44l.94 2.06.94-2.06 2.06-.94-2.06-.94-.94-2.06-.94 2.06-2.06.94zm-11 1L8.5 8.5l.94-2.06 2.06-.94-2.06-.94L8.5 2.5l-.94 2.06-2.06.94zm10 10l.94 2.06.94-2.06 2.06-.94-2.06-.94-.94-2.06-.94 2.06-2.06.94z\"/><path d=\"M17.41 7.96l-1.37-1.37c-.4-.4-.92-.59-1.43-.59-.52 0-1.04.2-1.43.59L10.3 9.45l-7.72 7.72c-.78.78-.78 2.05 0 2.83L4 21.41c.39.39.9.59 1.41.59.51 0 1.02-.2 1.41-.59l7.78-7.78 2.81-2.81c.8-.78.8-2.07 0-2.86zM5.41 20L4 18.59l7.72-7.72 1.47 1.35L5.41 20z\"/>\n",
              "  </svg>\n",
              "      </button>\n",
              "      \n",
              "  <style>\n",
              "    .colab-df-container {\n",
              "      display:flex;\n",
              "      flex-wrap:wrap;\n",
              "      gap: 12px;\n",
              "    }\n",
              "\n",
              "    .colab-df-convert {\n",
              "      background-color: #E8F0FE;\n",
              "      border: none;\n",
              "      border-radius: 50%;\n",
              "      cursor: pointer;\n",
              "      display: none;\n",
              "      fill: #1967D2;\n",
              "      height: 32px;\n",
              "      padding: 0 0 0 0;\n",
              "      width: 32px;\n",
              "    }\n",
              "\n",
              "    .colab-df-convert:hover {\n",
              "      background-color: #E2EBFA;\n",
              "      box-shadow: 0px 1px 2px rgba(60, 64, 67, 0.3), 0px 1px 3px 1px rgba(60, 64, 67, 0.15);\n",
              "      fill: #174EA6;\n",
              "    }\n",
              "\n",
              "    [theme=dark] .colab-df-convert {\n",
              "      background-color: #3B4455;\n",
              "      fill: #D2E3FC;\n",
              "    }\n",
              "\n",
              "    [theme=dark] .colab-df-convert:hover {\n",
              "      background-color: #434B5C;\n",
              "      box-shadow: 0px 1px 3px 1px rgba(0, 0, 0, 0.15);\n",
              "      filter: drop-shadow(0px 1px 2px rgba(0, 0, 0, 0.3));\n",
              "      fill: #FFFFFF;\n",
              "    }\n",
              "  </style>\n",
              "\n",
              "      <script>\n",
              "        const buttonEl =\n",
              "          document.querySelector('#df-52bf82a2-c3c7-4db2-a5db-03af49bd24a9 button.colab-df-convert');\n",
              "        buttonEl.style.display =\n",
              "          google.colab.kernel.accessAllowed ? 'block' : 'none';\n",
              "\n",
              "        async function convertToInteractive(key) {\n",
              "          const element = document.querySelector('#df-52bf82a2-c3c7-4db2-a5db-03af49bd24a9');\n",
              "          const dataTable =\n",
              "            await google.colab.kernel.invokeFunction('convertToInteractive',\n",
              "                                                     [key], {});\n",
              "          if (!dataTable) return;\n",
              "\n",
              "          const docLinkHtml = 'Like what you see? Visit the ' +\n",
              "            '<a target=\"_blank\" href=https://colab.research.google.com/notebooks/data_table.ipynb>data table notebook</a>'\n",
              "            + ' to learn more about interactive tables.';\n",
              "          element.innerHTML = '';\n",
              "          dataTable['output_type'] = 'display_data';\n",
              "          await google.colab.output.renderOutput(dataTable, element);\n",
              "          const docLink = document.createElement('div');\n",
              "          docLink.innerHTML = docLinkHtml;\n",
              "          element.appendChild(docLink);\n",
              "        }\n",
              "      </script>\n",
              "    </div>\n",
              "  </div>\n",
              "  "
            ]
          },
          "metadata": {},
          "execution_count": 86
        }
      ]
    },
    {
      "cell_type": "markdown",
      "source": [
        "There is none catergorical column in the dataset.\n",
        "\n",
        "There is no null or missing values.\n",
        "\n",
        "Max Energy consumption is 1080 and min is 10.\n",
        "\n",
        "Light Columns has majority of values as 0.\n",
        "\n",
        "Average temperature outside is about 7.5 degrees. While it ranges from -6 to 28 degress.\n",
        "\n",
        "Average humidity outside is higher than average humidity inside.\n"
      ],
      "metadata": {
        "id": "tuxypF_O0B6y"
      }
    },
    {
      "cell_type": "code",
      "source": [
        "df.isnull().sum()"
      ],
      "metadata": {
        "colab": {
          "base_uri": "https://localhost:8080/"
        },
        "id": "GL_Eh1vU7me7",
        "outputId": "7eab5554-0bae-49a9-b1cd-245e9bf2a704"
      },
      "execution_count": 87,
      "outputs": [
        {
          "output_type": "execute_result",
          "data": {
            "text/plain": [
              "date           0\n",
              "Appliances     0\n",
              "lights         0\n",
              "T1             0\n",
              "RH_1           0\n",
              "T2             0\n",
              "RH_2           0\n",
              "T3             0\n",
              "RH_3           0\n",
              "T4             0\n",
              "RH_4           0\n",
              "T5             0\n",
              "RH_5           0\n",
              "T6             0\n",
              "RH_6           0\n",
              "T7             0\n",
              "RH_7           0\n",
              "T8             0\n",
              "RH_8           0\n",
              "T9             0\n",
              "RH_9           0\n",
              "T_out          0\n",
              "Press_mm_hg    0\n",
              "RH_out         0\n",
              "Windspeed      0\n",
              "Visibility     0\n",
              "Tdewpoint      0\n",
              "rv1            0\n",
              "rv2            0\n",
              "dtype: int64"
            ]
          },
          "metadata": {},
          "execution_count": 87
        }
      ]
    },
    {
      "cell_type": "code",
      "source": [
        "df.corr()"
      ],
      "metadata": {
        "id": "m-oEbUD07wCy",
        "colab": {
          "base_uri": "https://localhost:8080/",
          "height": 957
        },
        "outputId": "c0916d03-401c-4072-cf00-8eda3d99d813"
      },
      "execution_count": 88,
      "outputs": [
        {
          "output_type": "execute_result",
          "data": {
            "text/plain": [
              "             Appliances    lights        T1      RH_1        T2      RH_2  \\\n",
              "Appliances     1.000000  0.197278  0.055447  0.086031  0.120073 -0.060465   \n",
              "lights         0.197278  1.000000 -0.023528  0.106968 -0.005622  0.050985   \n",
              "T1             0.055447 -0.023528  1.000000  0.164006  0.836834 -0.002509   \n",
              "RH_1           0.086031  0.106968  0.164006  1.000000  0.269839  0.797535   \n",
              "T2             0.120073 -0.005622  0.836834  0.269839  1.000000 -0.165610   \n",
              "RH_2          -0.060465  0.050985 -0.002509  0.797535 -0.165610  1.000000   \n",
              "T3             0.085060 -0.097393  0.892402  0.253230  0.735245  0.137319   \n",
              "RH_3           0.036292  0.131161 -0.028550  0.844677  0.121497  0.678326   \n",
              "T4             0.040281 -0.008859  0.877001  0.106180  0.762066 -0.047304   \n",
              "RH_4           0.016965  0.114936  0.097861  0.880359  0.231563  0.721435   \n",
              "T5             0.019760 -0.078745  0.885247  0.205797  0.720550  0.110409   \n",
              "RH_5           0.006955  0.141233 -0.014782  0.303258  0.029595  0.250271   \n",
              "T6             0.117638 -0.079029  0.654769  0.316141  0.801186 -0.009670   \n",
              "RH_6          -0.083178  0.153756 -0.615045  0.245126 -0.580372  0.389933   \n",
              "T7             0.025801 -0.135347  0.838705  0.021397  0.663660 -0.051422   \n",
              "RH_7          -0.055642  0.035069  0.135182  0.801122  0.229212  0.690584   \n",
              "T8             0.039572 -0.071458  0.825413 -0.030053  0.578191 -0.041023   \n",
              "RH_8          -0.094039  0.012915 -0.006441  0.736196  0.068534  0.679777   \n",
              "T9             0.010010 -0.157592  0.844777  0.115263  0.675535  0.054544   \n",
              "RH_9          -0.051462 -0.008766  0.071756  0.764001  0.157346  0.676467   \n",
              "T_out          0.099155 -0.074424  0.682846  0.340767  0.792255  0.033674   \n",
              "Press_mm_hg   -0.034885 -0.010576 -0.150574 -0.293957 -0.133028 -0.255646   \n",
              "RH_out        -0.152282  0.068543 -0.345481  0.274126 -0.505291  0.584911   \n",
              "Windspeed      0.087122  0.060281 -0.087654  0.204932  0.052495  0.069190   \n",
              "Visibility     0.000230  0.020038 -0.076210 -0.021057 -0.069721 -0.005368   \n",
              "Tdewpoint      0.015353 -0.036322  0.571309  0.639106  0.582602  0.499152   \n",
              "rv1           -0.011145  0.000521 -0.006203 -0.000699 -0.011087  0.006275   \n",
              "rv2           -0.011145  0.000521 -0.006203 -0.000699 -0.011087  0.006275   \n",
              "\n",
              "                   T3      RH_3        T4      RH_4  ...        T9      RH_9  \\\n",
              "Appliances   0.085060  0.036292  0.040281  0.016965  ...  0.010010 -0.051462   \n",
              "lights      -0.097393  0.131161 -0.008859  0.114936  ... -0.157592 -0.008766   \n",
              "T1           0.892402 -0.028550  0.877001  0.097861  ...  0.844777  0.071756   \n",
              "RH_1         0.253230  0.844677  0.106180  0.880359  ...  0.115263  0.764001   \n",
              "T2           0.735245  0.121497  0.762066  0.231563  ...  0.675535  0.157346   \n",
              "RH_2         0.137319  0.678326 -0.047304  0.721435  ...  0.054544  0.676467   \n",
              "T3           1.000000 -0.011234  0.852778  0.122737  ...  0.901324  0.134602   \n",
              "RH_3        -0.011234  1.000000 -0.140457  0.898978  ... -0.195270  0.833538   \n",
              "T4           0.852778 -0.140457  1.000000 -0.048650  ...  0.889439 -0.025549   \n",
              "RH_4         0.122737  0.898978 -0.048650  1.000000  ... -0.044518  0.856591   \n",
              "T5           0.888169 -0.050062  0.871813  0.091812  ...  0.911055  0.072308   \n",
              "RH_5        -0.066355  0.375422 -0.076489  0.352591  ... -0.138509  0.272197   \n",
              "T6           0.686882  0.076833  0.652350  0.259047  ...  0.667177  0.184424   \n",
              "RH_6        -0.647672  0.514912 -0.703149  0.392178  ... -0.738940  0.391943   \n",
              "T7           0.847374 -0.250090  0.877763 -0.131204  ...  0.944776 -0.077690   \n",
              "RH_7         0.172624  0.832685  0.043527  0.894301  ...  0.028055  0.858686   \n",
              "T8           0.795283 -0.283228  0.796256 -0.167066  ...  0.869338 -0.156820   \n",
              "RH_8         0.044427  0.828822 -0.095192  0.847259  ... -0.113014  0.855812   \n",
              "T9           0.901324 -0.195270  0.889439 -0.044518  ...  1.000000 -0.008683   \n",
              "RH_9         0.134602  0.833538 -0.025549  0.856591  ... -0.008683  1.000000   \n",
              "T_out        0.699417  0.118207  0.663478  0.293289  ...  0.668220  0.223270   \n",
              "Press_mm_hg -0.189974 -0.233274 -0.075292 -0.250748  ... -0.156828 -0.183739   \n",
              "RH_out      -0.281718  0.356192 -0.388602  0.336813  ... -0.318848  0.359377   \n",
              "Windspeed   -0.100776  0.263188 -0.185747  0.300192  ... -0.177756  0.238655   \n",
              "Visibility  -0.102310  0.017041 -0.104768  0.002636  ... -0.103915  0.008667   \n",
              "Tdewpoint    0.645886  0.414387  0.519471  0.616509  ...  0.581483  0.540328   \n",
              "rv1         -0.005194 -0.000477 -0.001815 -0.001787  ... -0.001227 -0.002955   \n",
              "rv2         -0.005194 -0.000477 -0.001815 -0.001787  ... -0.001227 -0.002955   \n",
              "\n",
              "                T_out  Press_mm_hg    RH_out  Windspeed  Visibility  \\\n",
              "Appliances   0.099155    -0.034885 -0.152282   0.087122    0.000230   \n",
              "lights      -0.074424    -0.010576  0.068543   0.060281    0.020038   \n",
              "T1           0.682846    -0.150574 -0.345481  -0.087654   -0.076210   \n",
              "RH_1         0.340767    -0.293957  0.274126   0.204932   -0.021057   \n",
              "T2           0.792255    -0.133028 -0.505291   0.052495   -0.069721   \n",
              "RH_2         0.033674    -0.255646  0.584911   0.069190   -0.005368   \n",
              "T3           0.699417    -0.189974 -0.281718  -0.100776   -0.102310   \n",
              "RH_3         0.118207    -0.233274  0.356192   0.263188    0.017041   \n",
              "T4           0.663478    -0.075292 -0.388602  -0.185747   -0.104768   \n",
              "RH_4         0.293289    -0.250748  0.336813   0.300192    0.002636   \n",
              "T5           0.651321    -0.170999 -0.273953  -0.145011   -0.084164   \n",
              "RH_5        -0.053126    -0.119327  0.185941   0.082044   -0.013133   \n",
              "T6           0.974787    -0.141643 -0.569119   0.169185   -0.081313   \n",
              "RH_6        -0.641572    -0.065814  0.718587   0.098317    0.108705   \n",
              "T7           0.631293    -0.097724 -0.411213  -0.185892   -0.110089   \n",
              "RH_7         0.294199    -0.265850  0.378519   0.212979   -0.007184   \n",
              "T8           0.502842    -0.162855 -0.300438  -0.218876   -0.060098   \n",
              "RH_8         0.117141    -0.225591  0.487355   0.202380    0.046178   \n",
              "T9           0.668220    -0.156828 -0.318848  -0.177756   -0.103915   \n",
              "RH_9         0.223270    -0.183739  0.359377   0.238655    0.008667   \n",
              "T_out        1.000000    -0.143249 -0.574197   0.192936   -0.077367   \n",
              "Press_mm_hg -0.143249     1.000000 -0.092017  -0.235032    0.040315   \n",
              "RH_out      -0.574197    -0.092017  1.000000  -0.176458    0.083125   \n",
              "Windspeed    0.192936    -0.235032 -0.176458   1.000000   -0.007516   \n",
              "Visibility  -0.077367     0.040315  0.083125  -0.007516    1.000000   \n",
              "Tdewpoint    0.790661    -0.244098  0.036506   0.125972   -0.042190   \n",
              "rv1         -0.015216     0.000699  0.020441  -0.011342   -0.005889   \n",
              "rv2         -0.015216     0.000699  0.020441  -0.011342   -0.005889   \n",
              "\n",
              "             Tdewpoint       rv1       rv2  \n",
              "Appliances    0.015353 -0.011145 -0.011145  \n",
              "lights       -0.036322  0.000521  0.000521  \n",
              "T1            0.571309 -0.006203 -0.006203  \n",
              "RH_1          0.639106 -0.000699 -0.000699  \n",
              "T2            0.582602 -0.011087 -0.011087  \n",
              "RH_2          0.499152  0.006275  0.006275  \n",
              "T3            0.645886 -0.005194 -0.005194  \n",
              "RH_3          0.414387 -0.000477 -0.000477  \n",
              "T4            0.519471 -0.001815 -0.001815  \n",
              "RH_4          0.616509 -0.001787 -0.001787  \n",
              "T5            0.588362 -0.005490 -0.005490  \n",
              "RH_5          0.078175 -0.011056 -0.011056  \n",
              "T6            0.764242 -0.015086 -0.015086  \n",
              "RH_6         -0.260417  0.011671  0.011671  \n",
              "T7            0.466625 -0.003900 -0.003900  \n",
              "RH_7          0.641857  0.001820  0.001820  \n",
              "T8            0.391810 -0.003210 -0.003210  \n",
              "RH_8          0.501775  0.004480  0.004480  \n",
              "T9            0.581483 -0.001227 -0.001227  \n",
              "RH_9          0.540328 -0.002955 -0.002955  \n",
              "T_out         0.790661 -0.015216 -0.015216  \n",
              "Press_mm_hg  -0.244098  0.000699  0.000699  \n",
              "RH_out        0.036506  0.020441  0.020441  \n",
              "Windspeed     0.125972 -0.011342 -0.011342  \n",
              "Visibility   -0.042190 -0.005889 -0.005889  \n",
              "Tdewpoint     1.000000 -0.003943 -0.003943  \n",
              "rv1          -0.003943  1.000000  1.000000  \n",
              "rv2          -0.003943  1.000000  1.000000  \n",
              "\n",
              "[28 rows x 28 columns]"
            ],
            "text/html": [
              "\n",
              "  <div id=\"df-e0c14dcf-ac2a-4acf-a065-adff0b53a49c\">\n",
              "    <div class=\"colab-df-container\">\n",
              "      <div>\n",
              "<style scoped>\n",
              "    .dataframe tbody tr th:only-of-type {\n",
              "        vertical-align: middle;\n",
              "    }\n",
              "\n",
              "    .dataframe tbody tr th {\n",
              "        vertical-align: top;\n",
              "    }\n",
              "\n",
              "    .dataframe thead th {\n",
              "        text-align: right;\n",
              "    }\n",
              "</style>\n",
              "<table border=\"1\" class=\"dataframe\">\n",
              "  <thead>\n",
              "    <tr style=\"text-align: right;\">\n",
              "      <th></th>\n",
              "      <th>Appliances</th>\n",
              "      <th>lights</th>\n",
              "      <th>T1</th>\n",
              "      <th>RH_1</th>\n",
              "      <th>T2</th>\n",
              "      <th>RH_2</th>\n",
              "      <th>T3</th>\n",
              "      <th>RH_3</th>\n",
              "      <th>T4</th>\n",
              "      <th>RH_4</th>\n",
              "      <th>...</th>\n",
              "      <th>T9</th>\n",
              "      <th>RH_9</th>\n",
              "      <th>T_out</th>\n",
              "      <th>Press_mm_hg</th>\n",
              "      <th>RH_out</th>\n",
              "      <th>Windspeed</th>\n",
              "      <th>Visibility</th>\n",
              "      <th>Tdewpoint</th>\n",
              "      <th>rv1</th>\n",
              "      <th>rv2</th>\n",
              "    </tr>\n",
              "  </thead>\n",
              "  <tbody>\n",
              "    <tr>\n",
              "      <th>Appliances</th>\n",
              "      <td>1.000000</td>\n",
              "      <td>0.197278</td>\n",
              "      <td>0.055447</td>\n",
              "      <td>0.086031</td>\n",
              "      <td>0.120073</td>\n",
              "      <td>-0.060465</td>\n",
              "      <td>0.085060</td>\n",
              "      <td>0.036292</td>\n",
              "      <td>0.040281</td>\n",
              "      <td>0.016965</td>\n",
              "      <td>...</td>\n",
              "      <td>0.010010</td>\n",
              "      <td>-0.051462</td>\n",
              "      <td>0.099155</td>\n",
              "      <td>-0.034885</td>\n",
              "      <td>-0.152282</td>\n",
              "      <td>0.087122</td>\n",
              "      <td>0.000230</td>\n",
              "      <td>0.015353</td>\n",
              "      <td>-0.011145</td>\n",
              "      <td>-0.011145</td>\n",
              "    </tr>\n",
              "    <tr>\n",
              "      <th>lights</th>\n",
              "      <td>0.197278</td>\n",
              "      <td>1.000000</td>\n",
              "      <td>-0.023528</td>\n",
              "      <td>0.106968</td>\n",
              "      <td>-0.005622</td>\n",
              "      <td>0.050985</td>\n",
              "      <td>-0.097393</td>\n",
              "      <td>0.131161</td>\n",
              "      <td>-0.008859</td>\n",
              "      <td>0.114936</td>\n",
              "      <td>...</td>\n",
              "      <td>-0.157592</td>\n",
              "      <td>-0.008766</td>\n",
              "      <td>-0.074424</td>\n",
              "      <td>-0.010576</td>\n",
              "      <td>0.068543</td>\n",
              "      <td>0.060281</td>\n",
              "      <td>0.020038</td>\n",
              "      <td>-0.036322</td>\n",
              "      <td>0.000521</td>\n",
              "      <td>0.000521</td>\n",
              "    </tr>\n",
              "    <tr>\n",
              "      <th>T1</th>\n",
              "      <td>0.055447</td>\n",
              "      <td>-0.023528</td>\n",
              "      <td>1.000000</td>\n",
              "      <td>0.164006</td>\n",
              "      <td>0.836834</td>\n",
              "      <td>-0.002509</td>\n",
              "      <td>0.892402</td>\n",
              "      <td>-0.028550</td>\n",
              "      <td>0.877001</td>\n",
              "      <td>0.097861</td>\n",
              "      <td>...</td>\n",
              "      <td>0.844777</td>\n",
              "      <td>0.071756</td>\n",
              "      <td>0.682846</td>\n",
              "      <td>-0.150574</td>\n",
              "      <td>-0.345481</td>\n",
              "      <td>-0.087654</td>\n",
              "      <td>-0.076210</td>\n",
              "      <td>0.571309</td>\n",
              "      <td>-0.006203</td>\n",
              "      <td>-0.006203</td>\n",
              "    </tr>\n",
              "    <tr>\n",
              "      <th>RH_1</th>\n",
              "      <td>0.086031</td>\n",
              "      <td>0.106968</td>\n",
              "      <td>0.164006</td>\n",
              "      <td>1.000000</td>\n",
              "      <td>0.269839</td>\n",
              "      <td>0.797535</td>\n",
              "      <td>0.253230</td>\n",
              "      <td>0.844677</td>\n",
              "      <td>0.106180</td>\n",
              "      <td>0.880359</td>\n",
              "      <td>...</td>\n",
              "      <td>0.115263</td>\n",
              "      <td>0.764001</td>\n",
              "      <td>0.340767</td>\n",
              "      <td>-0.293957</td>\n",
              "      <td>0.274126</td>\n",
              "      <td>0.204932</td>\n",
              "      <td>-0.021057</td>\n",
              "      <td>0.639106</td>\n",
              "      <td>-0.000699</td>\n",
              "      <td>-0.000699</td>\n",
              "    </tr>\n",
              "    <tr>\n",
              "      <th>T2</th>\n",
              "      <td>0.120073</td>\n",
              "      <td>-0.005622</td>\n",
              "      <td>0.836834</td>\n",
              "      <td>0.269839</td>\n",
              "      <td>1.000000</td>\n",
              "      <td>-0.165610</td>\n",
              "      <td>0.735245</td>\n",
              "      <td>0.121497</td>\n",
              "      <td>0.762066</td>\n",
              "      <td>0.231563</td>\n",
              "      <td>...</td>\n",
              "      <td>0.675535</td>\n",
              "      <td>0.157346</td>\n",
              "      <td>0.792255</td>\n",
              "      <td>-0.133028</td>\n",
              "      <td>-0.505291</td>\n",
              "      <td>0.052495</td>\n",
              "      <td>-0.069721</td>\n",
              "      <td>0.582602</td>\n",
              "      <td>-0.011087</td>\n",
              "      <td>-0.011087</td>\n",
              "    </tr>\n",
              "    <tr>\n",
              "      <th>RH_2</th>\n",
              "      <td>-0.060465</td>\n",
              "      <td>0.050985</td>\n",
              "      <td>-0.002509</td>\n",
              "      <td>0.797535</td>\n",
              "      <td>-0.165610</td>\n",
              "      <td>1.000000</td>\n",
              "      <td>0.137319</td>\n",
              "      <td>0.678326</td>\n",
              "      <td>-0.047304</td>\n",
              "      <td>0.721435</td>\n",
              "      <td>...</td>\n",
              "      <td>0.054544</td>\n",
              "      <td>0.676467</td>\n",
              "      <td>0.033674</td>\n",
              "      <td>-0.255646</td>\n",
              "      <td>0.584911</td>\n",
              "      <td>0.069190</td>\n",
              "      <td>-0.005368</td>\n",
              "      <td>0.499152</td>\n",
              "      <td>0.006275</td>\n",
              "      <td>0.006275</td>\n",
              "    </tr>\n",
              "    <tr>\n",
              "      <th>T3</th>\n",
              "      <td>0.085060</td>\n",
              "      <td>-0.097393</td>\n",
              "      <td>0.892402</td>\n",
              "      <td>0.253230</td>\n",
              "      <td>0.735245</td>\n",
              "      <td>0.137319</td>\n",
              "      <td>1.000000</td>\n",
              "      <td>-0.011234</td>\n",
              "      <td>0.852778</td>\n",
              "      <td>0.122737</td>\n",
              "      <td>...</td>\n",
              "      <td>0.901324</td>\n",
              "      <td>0.134602</td>\n",
              "      <td>0.699417</td>\n",
              "      <td>-0.189974</td>\n",
              "      <td>-0.281718</td>\n",
              "      <td>-0.100776</td>\n",
              "      <td>-0.102310</td>\n",
              "      <td>0.645886</td>\n",
              "      <td>-0.005194</td>\n",
              "      <td>-0.005194</td>\n",
              "    </tr>\n",
              "    <tr>\n",
              "      <th>RH_3</th>\n",
              "      <td>0.036292</td>\n",
              "      <td>0.131161</td>\n",
              "      <td>-0.028550</td>\n",
              "      <td>0.844677</td>\n",
              "      <td>0.121497</td>\n",
              "      <td>0.678326</td>\n",
              "      <td>-0.011234</td>\n",
              "      <td>1.000000</td>\n",
              "      <td>-0.140457</td>\n",
              "      <td>0.898978</td>\n",
              "      <td>...</td>\n",
              "      <td>-0.195270</td>\n",
              "      <td>0.833538</td>\n",
              "      <td>0.118207</td>\n",
              "      <td>-0.233274</td>\n",
              "      <td>0.356192</td>\n",
              "      <td>0.263188</td>\n",
              "      <td>0.017041</td>\n",
              "      <td>0.414387</td>\n",
              "      <td>-0.000477</td>\n",
              "      <td>-0.000477</td>\n",
              "    </tr>\n",
              "    <tr>\n",
              "      <th>T4</th>\n",
              "      <td>0.040281</td>\n",
              "      <td>-0.008859</td>\n",
              "      <td>0.877001</td>\n",
              "      <td>0.106180</td>\n",
              "      <td>0.762066</td>\n",
              "      <td>-0.047304</td>\n",
              "      <td>0.852778</td>\n",
              "      <td>-0.140457</td>\n",
              "      <td>1.000000</td>\n",
              "      <td>-0.048650</td>\n",
              "      <td>...</td>\n",
              "      <td>0.889439</td>\n",
              "      <td>-0.025549</td>\n",
              "      <td>0.663478</td>\n",
              "      <td>-0.075292</td>\n",
              "      <td>-0.388602</td>\n",
              "      <td>-0.185747</td>\n",
              "      <td>-0.104768</td>\n",
              "      <td>0.519471</td>\n",
              "      <td>-0.001815</td>\n",
              "      <td>-0.001815</td>\n",
              "    </tr>\n",
              "    <tr>\n",
              "      <th>RH_4</th>\n",
              "      <td>0.016965</td>\n",
              "      <td>0.114936</td>\n",
              "      <td>0.097861</td>\n",
              "      <td>0.880359</td>\n",
              "      <td>0.231563</td>\n",
              "      <td>0.721435</td>\n",
              "      <td>0.122737</td>\n",
              "      <td>0.898978</td>\n",
              "      <td>-0.048650</td>\n",
              "      <td>1.000000</td>\n",
              "      <td>...</td>\n",
              "      <td>-0.044518</td>\n",
              "      <td>0.856591</td>\n",
              "      <td>0.293289</td>\n",
              "      <td>-0.250748</td>\n",
              "      <td>0.336813</td>\n",
              "      <td>0.300192</td>\n",
              "      <td>0.002636</td>\n",
              "      <td>0.616509</td>\n",
              "      <td>-0.001787</td>\n",
              "      <td>-0.001787</td>\n",
              "    </tr>\n",
              "    <tr>\n",
              "      <th>T5</th>\n",
              "      <td>0.019760</td>\n",
              "      <td>-0.078745</td>\n",
              "      <td>0.885247</td>\n",
              "      <td>0.205797</td>\n",
              "      <td>0.720550</td>\n",
              "      <td>0.110409</td>\n",
              "      <td>0.888169</td>\n",
              "      <td>-0.050062</td>\n",
              "      <td>0.871813</td>\n",
              "      <td>0.091812</td>\n",
              "      <td>...</td>\n",
              "      <td>0.911055</td>\n",
              "      <td>0.072308</td>\n",
              "      <td>0.651321</td>\n",
              "      <td>-0.170999</td>\n",
              "      <td>-0.273953</td>\n",
              "      <td>-0.145011</td>\n",
              "      <td>-0.084164</td>\n",
              "      <td>0.588362</td>\n",
              "      <td>-0.005490</td>\n",
              "      <td>-0.005490</td>\n",
              "    </tr>\n",
              "    <tr>\n",
              "      <th>RH_5</th>\n",
              "      <td>0.006955</td>\n",
              "      <td>0.141233</td>\n",
              "      <td>-0.014782</td>\n",
              "      <td>0.303258</td>\n",
              "      <td>0.029595</td>\n",
              "      <td>0.250271</td>\n",
              "      <td>-0.066355</td>\n",
              "      <td>0.375422</td>\n",
              "      <td>-0.076489</td>\n",
              "      <td>0.352591</td>\n",
              "      <td>...</td>\n",
              "      <td>-0.138509</td>\n",
              "      <td>0.272197</td>\n",
              "      <td>-0.053126</td>\n",
              "      <td>-0.119327</td>\n",
              "      <td>0.185941</td>\n",
              "      <td>0.082044</td>\n",
              "      <td>-0.013133</td>\n",
              "      <td>0.078175</td>\n",
              "      <td>-0.011056</td>\n",
              "      <td>-0.011056</td>\n",
              "    </tr>\n",
              "    <tr>\n",
              "      <th>T6</th>\n",
              "      <td>0.117638</td>\n",
              "      <td>-0.079029</td>\n",
              "      <td>0.654769</td>\n",
              "      <td>0.316141</td>\n",
              "      <td>0.801186</td>\n",
              "      <td>-0.009670</td>\n",
              "      <td>0.686882</td>\n",
              "      <td>0.076833</td>\n",
              "      <td>0.652350</td>\n",
              "      <td>0.259047</td>\n",
              "      <td>...</td>\n",
              "      <td>0.667177</td>\n",
              "      <td>0.184424</td>\n",
              "      <td>0.974787</td>\n",
              "      <td>-0.141643</td>\n",
              "      <td>-0.569119</td>\n",
              "      <td>0.169185</td>\n",
              "      <td>-0.081313</td>\n",
              "      <td>0.764242</td>\n",
              "      <td>-0.015086</td>\n",
              "      <td>-0.015086</td>\n",
              "    </tr>\n",
              "    <tr>\n",
              "      <th>RH_6</th>\n",
              "      <td>-0.083178</td>\n",
              "      <td>0.153756</td>\n",
              "      <td>-0.615045</td>\n",
              "      <td>0.245126</td>\n",
              "      <td>-0.580372</td>\n",
              "      <td>0.389933</td>\n",
              "      <td>-0.647672</td>\n",
              "      <td>0.514912</td>\n",
              "      <td>-0.703149</td>\n",
              "      <td>0.392178</td>\n",
              "      <td>...</td>\n",
              "      <td>-0.738940</td>\n",
              "      <td>0.391943</td>\n",
              "      <td>-0.641572</td>\n",
              "      <td>-0.065814</td>\n",
              "      <td>0.718587</td>\n",
              "      <td>0.098317</td>\n",
              "      <td>0.108705</td>\n",
              "      <td>-0.260417</td>\n",
              "      <td>0.011671</td>\n",
              "      <td>0.011671</td>\n",
              "    </tr>\n",
              "    <tr>\n",
              "      <th>T7</th>\n",
              "      <td>0.025801</td>\n",
              "      <td>-0.135347</td>\n",
              "      <td>0.838705</td>\n",
              "      <td>0.021397</td>\n",
              "      <td>0.663660</td>\n",
              "      <td>-0.051422</td>\n",
              "      <td>0.847374</td>\n",
              "      <td>-0.250090</td>\n",
              "      <td>0.877763</td>\n",
              "      <td>-0.131204</td>\n",
              "      <td>...</td>\n",
              "      <td>0.944776</td>\n",
              "      <td>-0.077690</td>\n",
              "      <td>0.631293</td>\n",
              "      <td>-0.097724</td>\n",
              "      <td>-0.411213</td>\n",
              "      <td>-0.185892</td>\n",
              "      <td>-0.110089</td>\n",
              "      <td>0.466625</td>\n",
              "      <td>-0.003900</td>\n",
              "      <td>-0.003900</td>\n",
              "    </tr>\n",
              "    <tr>\n",
              "      <th>RH_7</th>\n",
              "      <td>-0.055642</td>\n",
              "      <td>0.035069</td>\n",
              "      <td>0.135182</td>\n",
              "      <td>0.801122</td>\n",
              "      <td>0.229212</td>\n",
              "      <td>0.690584</td>\n",
              "      <td>0.172624</td>\n",
              "      <td>0.832685</td>\n",
              "      <td>0.043527</td>\n",
              "      <td>0.894301</td>\n",
              "      <td>...</td>\n",
              "      <td>0.028055</td>\n",
              "      <td>0.858686</td>\n",
              "      <td>0.294199</td>\n",
              "      <td>-0.265850</td>\n",
              "      <td>0.378519</td>\n",
              "      <td>0.212979</td>\n",
              "      <td>-0.007184</td>\n",
              "      <td>0.641857</td>\n",
              "      <td>0.001820</td>\n",
              "      <td>0.001820</td>\n",
              "    </tr>\n",
              "    <tr>\n",
              "      <th>T8</th>\n",
              "      <td>0.039572</td>\n",
              "      <td>-0.071458</td>\n",
              "      <td>0.825413</td>\n",
              "      <td>-0.030053</td>\n",
              "      <td>0.578191</td>\n",
              "      <td>-0.041023</td>\n",
              "      <td>0.795283</td>\n",
              "      <td>-0.283228</td>\n",
              "      <td>0.796256</td>\n",
              "      <td>-0.167066</td>\n",
              "      <td>...</td>\n",
              "      <td>0.869338</td>\n",
              "      <td>-0.156820</td>\n",
              "      <td>0.502842</td>\n",
              "      <td>-0.162855</td>\n",
              "      <td>-0.300438</td>\n",
              "      <td>-0.218876</td>\n",
              "      <td>-0.060098</td>\n",
              "      <td>0.391810</td>\n",
              "      <td>-0.003210</td>\n",
              "      <td>-0.003210</td>\n",
              "    </tr>\n",
              "    <tr>\n",
              "      <th>RH_8</th>\n",
              "      <td>-0.094039</td>\n",
              "      <td>0.012915</td>\n",
              "      <td>-0.006441</td>\n",
              "      <td>0.736196</td>\n",
              "      <td>0.068534</td>\n",
              "      <td>0.679777</td>\n",
              "      <td>0.044427</td>\n",
              "      <td>0.828822</td>\n",
              "      <td>-0.095192</td>\n",
              "      <td>0.847259</td>\n",
              "      <td>...</td>\n",
              "      <td>-0.113014</td>\n",
              "      <td>0.855812</td>\n",
              "      <td>0.117141</td>\n",
              "      <td>-0.225591</td>\n",
              "      <td>0.487355</td>\n",
              "      <td>0.202380</td>\n",
              "      <td>0.046178</td>\n",
              "      <td>0.501775</td>\n",
              "      <td>0.004480</td>\n",
              "      <td>0.004480</td>\n",
              "    </tr>\n",
              "    <tr>\n",
              "      <th>T9</th>\n",
              "      <td>0.010010</td>\n",
              "      <td>-0.157592</td>\n",
              "      <td>0.844777</td>\n",
              "      <td>0.115263</td>\n",
              "      <td>0.675535</td>\n",
              "      <td>0.054544</td>\n",
              "      <td>0.901324</td>\n",
              "      <td>-0.195270</td>\n",
              "      <td>0.889439</td>\n",
              "      <td>-0.044518</td>\n",
              "      <td>...</td>\n",
              "      <td>1.000000</td>\n",
              "      <td>-0.008683</td>\n",
              "      <td>0.668220</td>\n",
              "      <td>-0.156828</td>\n",
              "      <td>-0.318848</td>\n",
              "      <td>-0.177756</td>\n",
              "      <td>-0.103915</td>\n",
              "      <td>0.581483</td>\n",
              "      <td>-0.001227</td>\n",
              "      <td>-0.001227</td>\n",
              "    </tr>\n",
              "    <tr>\n",
              "      <th>RH_9</th>\n",
              "      <td>-0.051462</td>\n",
              "      <td>-0.008766</td>\n",
              "      <td>0.071756</td>\n",
              "      <td>0.764001</td>\n",
              "      <td>0.157346</td>\n",
              "      <td>0.676467</td>\n",
              "      <td>0.134602</td>\n",
              "      <td>0.833538</td>\n",
              "      <td>-0.025549</td>\n",
              "      <td>0.856591</td>\n",
              "      <td>...</td>\n",
              "      <td>-0.008683</td>\n",
              "      <td>1.000000</td>\n",
              "      <td>0.223270</td>\n",
              "      <td>-0.183739</td>\n",
              "      <td>0.359377</td>\n",
              "      <td>0.238655</td>\n",
              "      <td>0.008667</td>\n",
              "      <td>0.540328</td>\n",
              "      <td>-0.002955</td>\n",
              "      <td>-0.002955</td>\n",
              "    </tr>\n",
              "    <tr>\n",
              "      <th>T_out</th>\n",
              "      <td>0.099155</td>\n",
              "      <td>-0.074424</td>\n",
              "      <td>0.682846</td>\n",
              "      <td>0.340767</td>\n",
              "      <td>0.792255</td>\n",
              "      <td>0.033674</td>\n",
              "      <td>0.699417</td>\n",
              "      <td>0.118207</td>\n",
              "      <td>0.663478</td>\n",
              "      <td>0.293289</td>\n",
              "      <td>...</td>\n",
              "      <td>0.668220</td>\n",
              "      <td>0.223270</td>\n",
              "      <td>1.000000</td>\n",
              "      <td>-0.143249</td>\n",
              "      <td>-0.574197</td>\n",
              "      <td>0.192936</td>\n",
              "      <td>-0.077367</td>\n",
              "      <td>0.790661</td>\n",
              "      <td>-0.015216</td>\n",
              "      <td>-0.015216</td>\n",
              "    </tr>\n",
              "    <tr>\n",
              "      <th>Press_mm_hg</th>\n",
              "      <td>-0.034885</td>\n",
              "      <td>-0.010576</td>\n",
              "      <td>-0.150574</td>\n",
              "      <td>-0.293957</td>\n",
              "      <td>-0.133028</td>\n",
              "      <td>-0.255646</td>\n",
              "      <td>-0.189974</td>\n",
              "      <td>-0.233274</td>\n",
              "      <td>-0.075292</td>\n",
              "      <td>-0.250748</td>\n",
              "      <td>...</td>\n",
              "      <td>-0.156828</td>\n",
              "      <td>-0.183739</td>\n",
              "      <td>-0.143249</td>\n",
              "      <td>1.000000</td>\n",
              "      <td>-0.092017</td>\n",
              "      <td>-0.235032</td>\n",
              "      <td>0.040315</td>\n",
              "      <td>-0.244098</td>\n",
              "      <td>0.000699</td>\n",
              "      <td>0.000699</td>\n",
              "    </tr>\n",
              "    <tr>\n",
              "      <th>RH_out</th>\n",
              "      <td>-0.152282</td>\n",
              "      <td>0.068543</td>\n",
              "      <td>-0.345481</td>\n",
              "      <td>0.274126</td>\n",
              "      <td>-0.505291</td>\n",
              "      <td>0.584911</td>\n",
              "      <td>-0.281718</td>\n",
              "      <td>0.356192</td>\n",
              "      <td>-0.388602</td>\n",
              "      <td>0.336813</td>\n",
              "      <td>...</td>\n",
              "      <td>-0.318848</td>\n",
              "      <td>0.359377</td>\n",
              "      <td>-0.574197</td>\n",
              "      <td>-0.092017</td>\n",
              "      <td>1.000000</td>\n",
              "      <td>-0.176458</td>\n",
              "      <td>0.083125</td>\n",
              "      <td>0.036506</td>\n",
              "      <td>0.020441</td>\n",
              "      <td>0.020441</td>\n",
              "    </tr>\n",
              "    <tr>\n",
              "      <th>Windspeed</th>\n",
              "      <td>0.087122</td>\n",
              "      <td>0.060281</td>\n",
              "      <td>-0.087654</td>\n",
              "      <td>0.204932</td>\n",
              "      <td>0.052495</td>\n",
              "      <td>0.069190</td>\n",
              "      <td>-0.100776</td>\n",
              "      <td>0.263188</td>\n",
              "      <td>-0.185747</td>\n",
              "      <td>0.300192</td>\n",
              "      <td>...</td>\n",
              "      <td>-0.177756</td>\n",
              "      <td>0.238655</td>\n",
              "      <td>0.192936</td>\n",
              "      <td>-0.235032</td>\n",
              "      <td>-0.176458</td>\n",
              "      <td>1.000000</td>\n",
              "      <td>-0.007516</td>\n",
              "      <td>0.125972</td>\n",
              "      <td>-0.011342</td>\n",
              "      <td>-0.011342</td>\n",
              "    </tr>\n",
              "    <tr>\n",
              "      <th>Visibility</th>\n",
              "      <td>0.000230</td>\n",
              "      <td>0.020038</td>\n",
              "      <td>-0.076210</td>\n",
              "      <td>-0.021057</td>\n",
              "      <td>-0.069721</td>\n",
              "      <td>-0.005368</td>\n",
              "      <td>-0.102310</td>\n",
              "      <td>0.017041</td>\n",
              "      <td>-0.104768</td>\n",
              "      <td>0.002636</td>\n",
              "      <td>...</td>\n",
              "      <td>-0.103915</td>\n",
              "      <td>0.008667</td>\n",
              "      <td>-0.077367</td>\n",
              "      <td>0.040315</td>\n",
              "      <td>0.083125</td>\n",
              "      <td>-0.007516</td>\n",
              "      <td>1.000000</td>\n",
              "      <td>-0.042190</td>\n",
              "      <td>-0.005889</td>\n",
              "      <td>-0.005889</td>\n",
              "    </tr>\n",
              "    <tr>\n",
              "      <th>Tdewpoint</th>\n",
              "      <td>0.015353</td>\n",
              "      <td>-0.036322</td>\n",
              "      <td>0.571309</td>\n",
              "      <td>0.639106</td>\n",
              "      <td>0.582602</td>\n",
              "      <td>0.499152</td>\n",
              "      <td>0.645886</td>\n",
              "      <td>0.414387</td>\n",
              "      <td>0.519471</td>\n",
              "      <td>0.616509</td>\n",
              "      <td>...</td>\n",
              "      <td>0.581483</td>\n",
              "      <td>0.540328</td>\n",
              "      <td>0.790661</td>\n",
              "      <td>-0.244098</td>\n",
              "      <td>0.036506</td>\n",
              "      <td>0.125972</td>\n",
              "      <td>-0.042190</td>\n",
              "      <td>1.000000</td>\n",
              "      <td>-0.003943</td>\n",
              "      <td>-0.003943</td>\n",
              "    </tr>\n",
              "    <tr>\n",
              "      <th>rv1</th>\n",
              "      <td>-0.011145</td>\n",
              "      <td>0.000521</td>\n",
              "      <td>-0.006203</td>\n",
              "      <td>-0.000699</td>\n",
              "      <td>-0.011087</td>\n",
              "      <td>0.006275</td>\n",
              "      <td>-0.005194</td>\n",
              "      <td>-0.000477</td>\n",
              "      <td>-0.001815</td>\n",
              "      <td>-0.001787</td>\n",
              "      <td>...</td>\n",
              "      <td>-0.001227</td>\n",
              "      <td>-0.002955</td>\n",
              "      <td>-0.015216</td>\n",
              "      <td>0.000699</td>\n",
              "      <td>0.020441</td>\n",
              "      <td>-0.011342</td>\n",
              "      <td>-0.005889</td>\n",
              "      <td>-0.003943</td>\n",
              "      <td>1.000000</td>\n",
              "      <td>1.000000</td>\n",
              "    </tr>\n",
              "    <tr>\n",
              "      <th>rv2</th>\n",
              "      <td>-0.011145</td>\n",
              "      <td>0.000521</td>\n",
              "      <td>-0.006203</td>\n",
              "      <td>-0.000699</td>\n",
              "      <td>-0.011087</td>\n",
              "      <td>0.006275</td>\n",
              "      <td>-0.005194</td>\n",
              "      <td>-0.000477</td>\n",
              "      <td>-0.001815</td>\n",
              "      <td>-0.001787</td>\n",
              "      <td>...</td>\n",
              "      <td>-0.001227</td>\n",
              "      <td>-0.002955</td>\n",
              "      <td>-0.015216</td>\n",
              "      <td>0.000699</td>\n",
              "      <td>0.020441</td>\n",
              "      <td>-0.011342</td>\n",
              "      <td>-0.005889</td>\n",
              "      <td>-0.003943</td>\n",
              "      <td>1.000000</td>\n",
              "      <td>1.000000</td>\n",
              "    </tr>\n",
              "  </tbody>\n",
              "</table>\n",
              "<p>28 rows × 28 columns</p>\n",
              "</div>\n",
              "      <button class=\"colab-df-convert\" onclick=\"convertToInteractive('df-e0c14dcf-ac2a-4acf-a065-adff0b53a49c')\"\n",
              "              title=\"Convert this dataframe to an interactive table.\"\n",
              "              style=\"display:none;\">\n",
              "        \n",
              "  <svg xmlns=\"http://www.w3.org/2000/svg\" height=\"24px\"viewBox=\"0 0 24 24\"\n",
              "       width=\"24px\">\n",
              "    <path d=\"M0 0h24v24H0V0z\" fill=\"none\"/>\n",
              "    <path d=\"M18.56 5.44l.94 2.06.94-2.06 2.06-.94-2.06-.94-.94-2.06-.94 2.06-2.06.94zm-11 1L8.5 8.5l.94-2.06 2.06-.94-2.06-.94L8.5 2.5l-.94 2.06-2.06.94zm10 10l.94 2.06.94-2.06 2.06-.94-2.06-.94-.94-2.06-.94 2.06-2.06.94z\"/><path d=\"M17.41 7.96l-1.37-1.37c-.4-.4-.92-.59-1.43-.59-.52 0-1.04.2-1.43.59L10.3 9.45l-7.72 7.72c-.78.78-.78 2.05 0 2.83L4 21.41c.39.39.9.59 1.41.59.51 0 1.02-.2 1.41-.59l7.78-7.78 2.81-2.81c.8-.78.8-2.07 0-2.86zM5.41 20L4 18.59l7.72-7.72 1.47 1.35L5.41 20z\"/>\n",
              "  </svg>\n",
              "      </button>\n",
              "      \n",
              "  <style>\n",
              "    .colab-df-container {\n",
              "      display:flex;\n",
              "      flex-wrap:wrap;\n",
              "      gap: 12px;\n",
              "    }\n",
              "\n",
              "    .colab-df-convert {\n",
              "      background-color: #E8F0FE;\n",
              "      border: none;\n",
              "      border-radius: 50%;\n",
              "      cursor: pointer;\n",
              "      display: none;\n",
              "      fill: #1967D2;\n",
              "      height: 32px;\n",
              "      padding: 0 0 0 0;\n",
              "      width: 32px;\n",
              "    }\n",
              "\n",
              "    .colab-df-convert:hover {\n",
              "      background-color: #E2EBFA;\n",
              "      box-shadow: 0px 1px 2px rgba(60, 64, 67, 0.3), 0px 1px 3px 1px rgba(60, 64, 67, 0.15);\n",
              "      fill: #174EA6;\n",
              "    }\n",
              "\n",
              "    [theme=dark] .colab-df-convert {\n",
              "      background-color: #3B4455;\n",
              "      fill: #D2E3FC;\n",
              "    }\n",
              "\n",
              "    [theme=dark] .colab-df-convert:hover {\n",
              "      background-color: #434B5C;\n",
              "      box-shadow: 0px 1px 3px 1px rgba(0, 0, 0, 0.15);\n",
              "      filter: drop-shadow(0px 1px 2px rgba(0, 0, 0, 0.3));\n",
              "      fill: #FFFFFF;\n",
              "    }\n",
              "  </style>\n",
              "\n",
              "      <script>\n",
              "        const buttonEl =\n",
              "          document.querySelector('#df-e0c14dcf-ac2a-4acf-a065-adff0b53a49c button.colab-df-convert');\n",
              "        buttonEl.style.display =\n",
              "          google.colab.kernel.accessAllowed ? 'block' : 'none';\n",
              "\n",
              "        async function convertToInteractive(key) {\n",
              "          const element = document.querySelector('#df-e0c14dcf-ac2a-4acf-a065-adff0b53a49c');\n",
              "          const dataTable =\n",
              "            await google.colab.kernel.invokeFunction('convertToInteractive',\n",
              "                                                     [key], {});\n",
              "          if (!dataTable) return;\n",
              "\n",
              "          const docLinkHtml = 'Like what you see? Visit the ' +\n",
              "            '<a target=\"_blank\" href=https://colab.research.google.com/notebooks/data_table.ipynb>data table notebook</a>'\n",
              "            + ' to learn more about interactive tables.';\n",
              "          element.innerHTML = '';\n",
              "          dataTable['output_type'] = 'display_data';\n",
              "          await google.colab.output.renderOutput(dataTable, element);\n",
              "          const docLink = document.createElement('div');\n",
              "          docLink.innerHTML = docLinkHtml;\n",
              "          element.appendChild(docLink);\n",
              "        }\n",
              "      </script>\n",
              "    </div>\n",
              "  </div>\n",
              "  "
            ]
          },
          "metadata": {},
          "execution_count": 88
        }
      ]
    },
    {
      "cell_type": "markdown",
      "source": [
        "## Columns Information\n",
        "\n",
        "\n",
        "\n",
        "1.  Date time year-month-day hour:minute:second\n",
        "2.  Appliances, energy use in Wh\n",
        "3.  Lights, energy use of light fixtures in the house in Wh\n",
        "4.  T1, Temperature in kitchen area, in Celsius\n",
        "5.  RH_1, Humidity in kitchen area, in %\n",
        "6.  T2, Temperature in living room area, in Celsius\n",
        "7.  RH_2, Humidity in living room area, in %\n",
        "8.  T3, Temperature in laundry room area\n",
        "9.  RH_3, Humidity in laundry room area, in %\n",
        "10. T4, Temperature in office room, in Celsius\n",
        "11. RH_4, Humidity in office room, in %\n",
        "12. T5, Temperature in bathroom, in Celsius\n",
        "13. RH_5, Humidity in bathroom, in %\n",
        "14. T6, Temperature outside the building (north side), in Celsius\n",
        "15. RH_6, Humidity outside the building (north side), in %\n",
        "16. T7, Temperature in ironing room , in Celsius\n",
        "17. RH_7, Humidity in ironing room, in %\n",
        "18. T8, Temperature in teenager room 2, in Celsius\n",
        "19. RH_8, Humidity in teenager room 2, in %\n",
        "20. T9, Temperature in parents room, in Celsius\n",
        "21. RH_9, Humidity in parents room, in %\n",
        "22. To, Temperature outside (from Chievres weather station), in Celsius\n",
        "23. Pressure (from Chievres weather station), in mm Hg\n",
        "24. RH_out, Humidity outside (from Chievres weather station), in %\n",
        "25. Wind speed (from Chievres weather station), in m/s\n",
        "26. Visibility (from Chievres weather station), in km\n",
        "27. Tdewpoint (from Chievres weather station), Â°C\n",
        "28. rv1, Random variable 1, nondimensional\n",
        "29. rv2, Random variable 2, nondimensional"
      ],
      "metadata": {
        "id": "40Sv9XVV1J55"
      }
    },
    {
      "cell_type": "code",
      "source": [
        "df.columns"
      ],
      "metadata": {
        "colab": {
          "base_uri": "https://localhost:8080/"
        },
        "id": "ijWp-BqG2WhY",
        "outputId": "931b71c7-cda1-499a-c697-45a0786a63f1"
      },
      "execution_count": 89,
      "outputs": [
        {
          "output_type": "execute_result",
          "data": {
            "text/plain": [
              "Index(['date', 'Appliances', 'lights', 'T1', 'RH_1', 'T2', 'RH_2', 'T3',\n",
              "       'RH_3', 'T4', 'RH_4', 'T5', 'RH_5', 'T6', 'RH_6', 'T7', 'RH_7', 'T8',\n",
              "       'RH_8', 'T9', 'RH_9', 'T_out', 'Press_mm_hg', 'RH_out', 'Windspeed',\n",
              "       'Visibility', 'Tdewpoint', 'rv1', 'rv2'],\n",
              "      dtype='object')"
            ]
          },
          "metadata": {},
          "execution_count": 89
        }
      ]
    },
    {
      "cell_type": "code",
      "source": [
        "missing_cols = df.isnull().mean()"
      ],
      "metadata": {
        "id": "A0mzxUcubXOA"
      },
      "execution_count": 90,
      "outputs": []
    },
    {
      "cell_type": "code",
      "source": [
        "missing_cols.sort_values(ascending=False)"
      ],
      "metadata": {
        "colab": {
          "base_uri": "https://localhost:8080/"
        },
        "id": "s4ISbKLVcbIV",
        "outputId": "7e428a62-2803-4514-c26a-d1ea78dcce6e"
      },
      "execution_count": 91,
      "outputs": [
        {
          "output_type": "execute_result",
          "data": {
            "text/plain": [
              "date           0.0\n",
              "T7             0.0\n",
              "rv1            0.0\n",
              "Tdewpoint      0.0\n",
              "Visibility     0.0\n",
              "Windspeed      0.0\n",
              "RH_out         0.0\n",
              "Press_mm_hg    0.0\n",
              "T_out          0.0\n",
              "RH_9           0.0\n",
              "T9             0.0\n",
              "RH_8           0.0\n",
              "T8             0.0\n",
              "RH_7           0.0\n",
              "RH_6           0.0\n",
              "Appliances     0.0\n",
              "T6             0.0\n",
              "RH_5           0.0\n",
              "T5             0.0\n",
              "RH_4           0.0\n",
              "T4             0.0\n",
              "RH_3           0.0\n",
              "T3             0.0\n",
              "RH_2           0.0\n",
              "T2             0.0\n",
              "RH_1           0.0\n",
              "T1             0.0\n",
              "lights         0.0\n",
              "rv2            0.0\n",
              "dtype: float64"
            ]
          },
          "metadata": {},
          "execution_count": 91
        }
      ]
    },
    {
      "cell_type": "markdown",
      "source": [
        "**Checking Outliers**"
      ],
      "metadata": {
        "id": "XqVw0kGBqqbD"
      }
    },
    {
      "cell_type": "code",
      "source": [
        "T=df[['Appliances']]\n",
        "Q1 = T.quantile(0.25)\n",
        "Q3 = T.quantile(0.75)\n",
        "IQR = Q3 - Q1\n",
        "print(\"Outlier threshold of Appliances \",IQR)\n",
        "\n",
        "dfOutlier=T.describe()\n",
        "outlierSet=set()\n",
        "for column in dfOutlier.columns:\n",
        "    Q1 = dfOutlier[column]['25%']\n",
        "    Q3 = dfOutlier[column]['75%']\n",
        "    IQR = Q3 - Q1\n",
        "    outlierDf= ( ((T[column] < (Q1 - 1.5 * IQR)) |(T[column] > (Q3 + 1.5 * IQR))) )\n",
        "    outlierSet.update(set(outlierDf[outlierDf==True].index))\n",
        "        \n",
        "\n",
        "df = df.drop(outlierSet, axis=0)"
      ],
      "metadata": {
        "id": "7jx1GwdXc3yE",
        "colab": {
          "base_uri": "https://localhost:8080/"
        },
        "outputId": "ad03ee84-1f1d-4059-ac58-12ea12c0dbfa"
      },
      "execution_count": 92,
      "outputs": [
        {
          "output_type": "stream",
          "name": "stdout",
          "text": [
            "Outlier threshold of Appliances  Appliances    50.0\n",
            "dtype: float64\n"
          ]
        }
      ]
    },
    {
      "cell_type": "code",
      "source": [
        "df.shape"
      ],
      "metadata": {
        "colab": {
          "base_uri": "https://localhost:8080/"
        },
        "id": "M2052fpXHK8w",
        "outputId": "3ffac80c-984e-4a62-b338-ca2d8a30b262"
      },
      "execution_count": 93,
      "outputs": [
        {
          "output_type": "execute_result",
          "data": {
            "text/plain": [
              "(17597, 29)"
            ]
          },
          "metadata": {},
          "execution_count": 93
        }
      ]
    },
    {
      "cell_type": "code",
      "source": [
        "# Divide the columns based on type\n",
        "\n",
        "col_hum = ['RH_1', 'RH_2', 'RH_3', 'RH_4', 'RH_5', 'RH_6', 'RH_7', 'RH_8', 'RH_9']\n",
        "col_temp = ['T1', 'T2', 'T3', 'T4', 'T5', 'T6', 'T7', 'T8', 'T9']\n",
        "\n",
        "col_weather = ['T_out', 'Press_mm_hg', 'RH_out', 'Windspeed', 'Visibility', 'Tdewpoint']\n",
        "\n",
        "col_randoms = [\"rv1\", \"rv2\"]"
      ],
      "metadata": {
        "id": "pwn554hpHLXO"
      },
      "execution_count": 94,
      "outputs": []
    },
    {
      "cell_type": "code",
      "source": [
        "# Quick look at humidity values\n",
        "\n",
        "df[col_hum].describe()"
      ],
      "metadata": {
        "colab": {
          "base_uri": "https://localhost:8080/",
          "height": 300
        },
        "id": "oCRP5mFCHfYw",
        "outputId": "b8a93fca-75cf-4fd1-d07d-539bd5bab948"
      },
      "execution_count": 95,
      "outputs": [
        {
          "output_type": "execute_result",
          "data": {
            "text/plain": [
              "               RH_1          RH_2          RH_3          RH_4          RH_5  \\\n",
              "count  17597.000000  17597.000000  17597.000000  17597.000000  17597.000000   \n",
              "mean      40.141387     40.472614     39.160196     38.983779     50.983860   \n",
              "std        3.927986      4.061565      3.221064      4.322328      8.998659   \n",
              "min       27.023333     20.463333     28.766667     27.660000     29.815000   \n",
              "25%       37.233333     37.933333     36.826667     35.500000     45.400000   \n",
              "50%       39.530000     40.560000     38.466667     38.363333     49.090000   \n",
              "75%       42.860000     43.326667     41.560000     42.090000     53.833333   \n",
              "max       59.633333     56.026667     49.656667     51.000000     96.321667   \n",
              "\n",
              "               RH_6          RH_7          RH_8          RH_9  \n",
              "count  17597.000000  17597.000000  17597.000000  17597.000000  \n",
              "mean      54.932890     35.437279     43.025356     41.554052  \n",
              "std       30.700432      5.079694      5.199692      4.164228  \n",
              "min        1.000000     23.290000     29.600000     29.166667  \n",
              "25%       31.290000     31.562500     39.200000     38.530000  \n",
              "50%       55.290000     34.900000     42.463333     40.863333  \n",
              "75%       83.008750     39.054286     46.590000     44.290000  \n",
              "max       99.900000     51.400000     58.780000     53.326667  "
            ],
            "text/html": [
              "\n",
              "  <div id=\"df-0ce946d5-f3ce-43dd-b9fb-478a6f7f7a14\">\n",
              "    <div class=\"colab-df-container\">\n",
              "      <div>\n",
              "<style scoped>\n",
              "    .dataframe tbody tr th:only-of-type {\n",
              "        vertical-align: middle;\n",
              "    }\n",
              "\n",
              "    .dataframe tbody tr th {\n",
              "        vertical-align: top;\n",
              "    }\n",
              "\n",
              "    .dataframe thead th {\n",
              "        text-align: right;\n",
              "    }\n",
              "</style>\n",
              "<table border=\"1\" class=\"dataframe\">\n",
              "  <thead>\n",
              "    <tr style=\"text-align: right;\">\n",
              "      <th></th>\n",
              "      <th>RH_1</th>\n",
              "      <th>RH_2</th>\n",
              "      <th>RH_3</th>\n",
              "      <th>RH_4</th>\n",
              "      <th>RH_5</th>\n",
              "      <th>RH_6</th>\n",
              "      <th>RH_7</th>\n",
              "      <th>RH_8</th>\n",
              "      <th>RH_9</th>\n",
              "    </tr>\n",
              "  </thead>\n",
              "  <tbody>\n",
              "    <tr>\n",
              "      <th>count</th>\n",
              "      <td>17597.000000</td>\n",
              "      <td>17597.000000</td>\n",
              "      <td>17597.000000</td>\n",
              "      <td>17597.000000</td>\n",
              "      <td>17597.000000</td>\n",
              "      <td>17597.000000</td>\n",
              "      <td>17597.000000</td>\n",
              "      <td>17597.000000</td>\n",
              "      <td>17597.000000</td>\n",
              "    </tr>\n",
              "    <tr>\n",
              "      <th>mean</th>\n",
              "      <td>40.141387</td>\n",
              "      <td>40.472614</td>\n",
              "      <td>39.160196</td>\n",
              "      <td>38.983779</td>\n",
              "      <td>50.983860</td>\n",
              "      <td>54.932890</td>\n",
              "      <td>35.437279</td>\n",
              "      <td>43.025356</td>\n",
              "      <td>41.554052</td>\n",
              "    </tr>\n",
              "    <tr>\n",
              "      <th>std</th>\n",
              "      <td>3.927986</td>\n",
              "      <td>4.061565</td>\n",
              "      <td>3.221064</td>\n",
              "      <td>4.322328</td>\n",
              "      <td>8.998659</td>\n",
              "      <td>30.700432</td>\n",
              "      <td>5.079694</td>\n",
              "      <td>5.199692</td>\n",
              "      <td>4.164228</td>\n",
              "    </tr>\n",
              "    <tr>\n",
              "      <th>min</th>\n",
              "      <td>27.023333</td>\n",
              "      <td>20.463333</td>\n",
              "      <td>28.766667</td>\n",
              "      <td>27.660000</td>\n",
              "      <td>29.815000</td>\n",
              "      <td>1.000000</td>\n",
              "      <td>23.290000</td>\n",
              "      <td>29.600000</td>\n",
              "      <td>29.166667</td>\n",
              "    </tr>\n",
              "    <tr>\n",
              "      <th>25%</th>\n",
              "      <td>37.233333</td>\n",
              "      <td>37.933333</td>\n",
              "      <td>36.826667</td>\n",
              "      <td>35.500000</td>\n",
              "      <td>45.400000</td>\n",
              "      <td>31.290000</td>\n",
              "      <td>31.562500</td>\n",
              "      <td>39.200000</td>\n",
              "      <td>38.530000</td>\n",
              "    </tr>\n",
              "    <tr>\n",
              "      <th>50%</th>\n",
              "      <td>39.530000</td>\n",
              "      <td>40.560000</td>\n",
              "      <td>38.466667</td>\n",
              "      <td>38.363333</td>\n",
              "      <td>49.090000</td>\n",
              "      <td>55.290000</td>\n",
              "      <td>34.900000</td>\n",
              "      <td>42.463333</td>\n",
              "      <td>40.863333</td>\n",
              "    </tr>\n",
              "    <tr>\n",
              "      <th>75%</th>\n",
              "      <td>42.860000</td>\n",
              "      <td>43.326667</td>\n",
              "      <td>41.560000</td>\n",
              "      <td>42.090000</td>\n",
              "      <td>53.833333</td>\n",
              "      <td>83.008750</td>\n",
              "      <td>39.054286</td>\n",
              "      <td>46.590000</td>\n",
              "      <td>44.290000</td>\n",
              "    </tr>\n",
              "    <tr>\n",
              "      <th>max</th>\n",
              "      <td>59.633333</td>\n",
              "      <td>56.026667</td>\n",
              "      <td>49.656667</td>\n",
              "      <td>51.000000</td>\n",
              "      <td>96.321667</td>\n",
              "      <td>99.900000</td>\n",
              "      <td>51.400000</td>\n",
              "      <td>58.780000</td>\n",
              "      <td>53.326667</td>\n",
              "    </tr>\n",
              "  </tbody>\n",
              "</table>\n",
              "</div>\n",
              "      <button class=\"colab-df-convert\" onclick=\"convertToInteractive('df-0ce946d5-f3ce-43dd-b9fb-478a6f7f7a14')\"\n",
              "              title=\"Convert this dataframe to an interactive table.\"\n",
              "              style=\"display:none;\">\n",
              "        \n",
              "  <svg xmlns=\"http://www.w3.org/2000/svg\" height=\"24px\"viewBox=\"0 0 24 24\"\n",
              "       width=\"24px\">\n",
              "    <path d=\"M0 0h24v24H0V0z\" fill=\"none\"/>\n",
              "    <path d=\"M18.56 5.44l.94 2.06.94-2.06 2.06-.94-2.06-.94-.94-2.06-.94 2.06-2.06.94zm-11 1L8.5 8.5l.94-2.06 2.06-.94-2.06-.94L8.5 2.5l-.94 2.06-2.06.94zm10 10l.94 2.06.94-2.06 2.06-.94-2.06-.94-.94-2.06-.94 2.06-2.06.94z\"/><path d=\"M17.41 7.96l-1.37-1.37c-.4-.4-.92-.59-1.43-.59-.52 0-1.04.2-1.43.59L10.3 9.45l-7.72 7.72c-.78.78-.78 2.05 0 2.83L4 21.41c.39.39.9.59 1.41.59.51 0 1.02-.2 1.41-.59l7.78-7.78 2.81-2.81c.8-.78.8-2.07 0-2.86zM5.41 20L4 18.59l7.72-7.72 1.47 1.35L5.41 20z\"/>\n",
              "  </svg>\n",
              "      </button>\n",
              "      \n",
              "  <style>\n",
              "    .colab-df-container {\n",
              "      display:flex;\n",
              "      flex-wrap:wrap;\n",
              "      gap: 12px;\n",
              "    }\n",
              "\n",
              "    .colab-df-convert {\n",
              "      background-color: #E8F0FE;\n",
              "      border: none;\n",
              "      border-radius: 50%;\n",
              "      cursor: pointer;\n",
              "      display: none;\n",
              "      fill: #1967D2;\n",
              "      height: 32px;\n",
              "      padding: 0 0 0 0;\n",
              "      width: 32px;\n",
              "    }\n",
              "\n",
              "    .colab-df-convert:hover {\n",
              "      background-color: #E2EBFA;\n",
              "      box-shadow: 0px 1px 2px rgba(60, 64, 67, 0.3), 0px 1px 3px 1px rgba(60, 64, 67, 0.15);\n",
              "      fill: #174EA6;\n",
              "    }\n",
              "\n",
              "    [theme=dark] .colab-df-convert {\n",
              "      background-color: #3B4455;\n",
              "      fill: #D2E3FC;\n",
              "    }\n",
              "\n",
              "    [theme=dark] .colab-df-convert:hover {\n",
              "      background-color: #434B5C;\n",
              "      box-shadow: 0px 1px 3px 1px rgba(0, 0, 0, 0.15);\n",
              "      filter: drop-shadow(0px 1px 2px rgba(0, 0, 0, 0.3));\n",
              "      fill: #FFFFFF;\n",
              "    }\n",
              "  </style>\n",
              "\n",
              "      <script>\n",
              "        const buttonEl =\n",
              "          document.querySelector('#df-0ce946d5-f3ce-43dd-b9fb-478a6f7f7a14 button.colab-df-convert');\n",
              "        buttonEl.style.display =\n",
              "          google.colab.kernel.accessAllowed ? 'block' : 'none';\n",
              "\n",
              "        async function convertToInteractive(key) {\n",
              "          const element = document.querySelector('#df-0ce946d5-f3ce-43dd-b9fb-478a6f7f7a14');\n",
              "          const dataTable =\n",
              "            await google.colab.kernel.invokeFunction('convertToInteractive',\n",
              "                                                     [key], {});\n",
              "          if (!dataTable) return;\n",
              "\n",
              "          const docLinkHtml = 'Like what you see? Visit the ' +\n",
              "            '<a target=\"_blank\" href=https://colab.research.google.com/notebooks/data_table.ipynb>data table notebook</a>'\n",
              "            + ' to learn more about interactive tables.';\n",
              "          element.innerHTML = '';\n",
              "          dataTable['output_type'] = 'display_data';\n",
              "          await google.colab.output.renderOutput(dataTable, element);\n",
              "          const docLink = document.createElement('div');\n",
              "          docLink.innerHTML = docLinkHtml;\n",
              "          element.appendChild(docLink);\n",
              "        }\n",
              "      </script>\n",
              "    </div>\n",
              "  </div>\n",
              "  "
            ]
          },
          "metadata": {},
          "execution_count": 95
        }
      ]
    },
    {
      "cell_type": "markdown",
      "source": [
        "\n",
        "\n",
        "*   We see that the humidity inside the house is similar in various rooms of the house.\n",
        "*   RH_6 - humidity in the bathroom - since the bathroom is not always in use, it is reasonable to see a high variance. When the bathroom is in use, we would see high humidity and vice versa.\n",
        "*  RH_5 - humidty outside the house - this is measured by the sensor. Humidity outside the house will have different values than inside the house."
      ],
      "metadata": {
        "id": "vU1zm7egHkXk"
      }
    },
    {
      "cell_type": "code",
      "source": [
        "# Quick look at temperature values\n",
        "\n",
        "df[col_temp].describe()\n"
      ],
      "metadata": {
        "colab": {
          "base_uri": "https://localhost:8080/",
          "height": 300
        },
        "id": "k81f40DgH2vs",
        "outputId": "4fd6748a-7bf1-49d6-9fde-588f25bc4682"
      },
      "execution_count": 96,
      "outputs": [
        {
          "output_type": "execute_result",
          "data": {
            "text/plain": [
              "                 T1            T2            T3            T4            T5  \\\n",
              "count  17597.000000  17597.000000  17597.000000  17597.000000  17597.000000   \n",
              "mean      21.687492     20.289424     22.226352     20.858703     19.610218   \n",
              "std        1.603825      2.168958      1.966206      2.047649      1.837095   \n",
              "min       16.790000     16.100000     17.200000     15.100000     15.330000   \n",
              "25%       20.760000     18.790000     20.790000     19.566667     18.290000   \n",
              "50%       21.600000     19.926667     22.100000     20.666667     19.390000   \n",
              "75%       22.600000     21.463333     23.290000     22.100000     20.600000   \n",
              "max       26.200000     29.856667     29.100000     26.200000     25.795000   \n",
              "\n",
              "                 T6            T7            T8            T9  \n",
              "count  17597.000000  17597.000000  17597.000000  17597.000000  \n",
              "mean       7.744890     20.279522     22.049699     19.504323  \n",
              "std        6.028322      2.100282      1.961996      2.010522  \n",
              "min       -6.065000     15.390000     16.306667     14.890000  \n",
              "25%        3.466667     18.700000     20.840000     18.066667  \n",
              "50%        7.156667     20.100000     22.166667     19.390000  \n",
              "75%       11.063333     21.600000     23.390000     20.600000  \n",
              "max       28.290000     25.890000     27.230000     24.500000  "
            ],
            "text/html": [
              "\n",
              "  <div id=\"df-cde694db-2ef3-4372-8746-a31dd271d8ab\">\n",
              "    <div class=\"colab-df-container\">\n",
              "      <div>\n",
              "<style scoped>\n",
              "    .dataframe tbody tr th:only-of-type {\n",
              "        vertical-align: middle;\n",
              "    }\n",
              "\n",
              "    .dataframe tbody tr th {\n",
              "        vertical-align: top;\n",
              "    }\n",
              "\n",
              "    .dataframe thead th {\n",
              "        text-align: right;\n",
              "    }\n",
              "</style>\n",
              "<table border=\"1\" class=\"dataframe\">\n",
              "  <thead>\n",
              "    <tr style=\"text-align: right;\">\n",
              "      <th></th>\n",
              "      <th>T1</th>\n",
              "      <th>T2</th>\n",
              "      <th>T3</th>\n",
              "      <th>T4</th>\n",
              "      <th>T5</th>\n",
              "      <th>T6</th>\n",
              "      <th>T7</th>\n",
              "      <th>T8</th>\n",
              "      <th>T9</th>\n",
              "    </tr>\n",
              "  </thead>\n",
              "  <tbody>\n",
              "    <tr>\n",
              "      <th>count</th>\n",
              "      <td>17597.000000</td>\n",
              "      <td>17597.000000</td>\n",
              "      <td>17597.000000</td>\n",
              "      <td>17597.000000</td>\n",
              "      <td>17597.000000</td>\n",
              "      <td>17597.000000</td>\n",
              "      <td>17597.000000</td>\n",
              "      <td>17597.000000</td>\n",
              "      <td>17597.000000</td>\n",
              "    </tr>\n",
              "    <tr>\n",
              "      <th>mean</th>\n",
              "      <td>21.687492</td>\n",
              "      <td>20.289424</td>\n",
              "      <td>22.226352</td>\n",
              "      <td>20.858703</td>\n",
              "      <td>19.610218</td>\n",
              "      <td>7.744890</td>\n",
              "      <td>20.279522</td>\n",
              "      <td>22.049699</td>\n",
              "      <td>19.504323</td>\n",
              "    </tr>\n",
              "    <tr>\n",
              "      <th>std</th>\n",
              "      <td>1.603825</td>\n",
              "      <td>2.168958</td>\n",
              "      <td>1.966206</td>\n",
              "      <td>2.047649</td>\n",
              "      <td>1.837095</td>\n",
              "      <td>6.028322</td>\n",
              "      <td>2.100282</td>\n",
              "      <td>1.961996</td>\n",
              "      <td>2.010522</td>\n",
              "    </tr>\n",
              "    <tr>\n",
              "      <th>min</th>\n",
              "      <td>16.790000</td>\n",
              "      <td>16.100000</td>\n",
              "      <td>17.200000</td>\n",
              "      <td>15.100000</td>\n",
              "      <td>15.330000</td>\n",
              "      <td>-6.065000</td>\n",
              "      <td>15.390000</td>\n",
              "      <td>16.306667</td>\n",
              "      <td>14.890000</td>\n",
              "    </tr>\n",
              "    <tr>\n",
              "      <th>25%</th>\n",
              "      <td>20.760000</td>\n",
              "      <td>18.790000</td>\n",
              "      <td>20.790000</td>\n",
              "      <td>19.566667</td>\n",
              "      <td>18.290000</td>\n",
              "      <td>3.466667</td>\n",
              "      <td>18.700000</td>\n",
              "      <td>20.840000</td>\n",
              "      <td>18.066667</td>\n",
              "    </tr>\n",
              "    <tr>\n",
              "      <th>50%</th>\n",
              "      <td>21.600000</td>\n",
              "      <td>19.926667</td>\n",
              "      <td>22.100000</td>\n",
              "      <td>20.666667</td>\n",
              "      <td>19.390000</td>\n",
              "      <td>7.156667</td>\n",
              "      <td>20.100000</td>\n",
              "      <td>22.166667</td>\n",
              "      <td>19.390000</td>\n",
              "    </tr>\n",
              "    <tr>\n",
              "      <th>75%</th>\n",
              "      <td>22.600000</td>\n",
              "      <td>21.463333</td>\n",
              "      <td>23.290000</td>\n",
              "      <td>22.100000</td>\n",
              "      <td>20.600000</td>\n",
              "      <td>11.063333</td>\n",
              "      <td>21.600000</td>\n",
              "      <td>23.390000</td>\n",
              "      <td>20.600000</td>\n",
              "    </tr>\n",
              "    <tr>\n",
              "      <th>max</th>\n",
              "      <td>26.200000</td>\n",
              "      <td>29.856667</td>\n",
              "      <td>29.100000</td>\n",
              "      <td>26.200000</td>\n",
              "      <td>25.795000</td>\n",
              "      <td>28.290000</td>\n",
              "      <td>25.890000</td>\n",
              "      <td>27.230000</td>\n",
              "      <td>24.500000</td>\n",
              "    </tr>\n",
              "  </tbody>\n",
              "</table>\n",
              "</div>\n",
              "      <button class=\"colab-df-convert\" onclick=\"convertToInteractive('df-cde694db-2ef3-4372-8746-a31dd271d8ab')\"\n",
              "              title=\"Convert this dataframe to an interactive table.\"\n",
              "              style=\"display:none;\">\n",
              "        \n",
              "  <svg xmlns=\"http://www.w3.org/2000/svg\" height=\"24px\"viewBox=\"0 0 24 24\"\n",
              "       width=\"24px\">\n",
              "    <path d=\"M0 0h24v24H0V0z\" fill=\"none\"/>\n",
              "    <path d=\"M18.56 5.44l.94 2.06.94-2.06 2.06-.94-2.06-.94-.94-2.06-.94 2.06-2.06.94zm-11 1L8.5 8.5l.94-2.06 2.06-.94-2.06-.94L8.5 2.5l-.94 2.06-2.06.94zm10 10l.94 2.06.94-2.06 2.06-.94-2.06-.94-.94-2.06-.94 2.06-2.06.94z\"/><path d=\"M17.41 7.96l-1.37-1.37c-.4-.4-.92-.59-1.43-.59-.52 0-1.04.2-1.43.59L10.3 9.45l-7.72 7.72c-.78.78-.78 2.05 0 2.83L4 21.41c.39.39.9.59 1.41.59.51 0 1.02-.2 1.41-.59l7.78-7.78 2.81-2.81c.8-.78.8-2.07 0-2.86zM5.41 20L4 18.59l7.72-7.72 1.47 1.35L5.41 20z\"/>\n",
              "  </svg>\n",
              "      </button>\n",
              "      \n",
              "  <style>\n",
              "    .colab-df-container {\n",
              "      display:flex;\n",
              "      flex-wrap:wrap;\n",
              "      gap: 12px;\n",
              "    }\n",
              "\n",
              "    .colab-df-convert {\n",
              "      background-color: #E8F0FE;\n",
              "      border: none;\n",
              "      border-radius: 50%;\n",
              "      cursor: pointer;\n",
              "      display: none;\n",
              "      fill: #1967D2;\n",
              "      height: 32px;\n",
              "      padding: 0 0 0 0;\n",
              "      width: 32px;\n",
              "    }\n",
              "\n",
              "    .colab-df-convert:hover {\n",
              "      background-color: #E2EBFA;\n",
              "      box-shadow: 0px 1px 2px rgba(60, 64, 67, 0.3), 0px 1px 3px 1px rgba(60, 64, 67, 0.15);\n",
              "      fill: #174EA6;\n",
              "    }\n",
              "\n",
              "    [theme=dark] .colab-df-convert {\n",
              "      background-color: #3B4455;\n",
              "      fill: #D2E3FC;\n",
              "    }\n",
              "\n",
              "    [theme=dark] .colab-df-convert:hover {\n",
              "      background-color: #434B5C;\n",
              "      box-shadow: 0px 1px 3px 1px rgba(0, 0, 0, 0.15);\n",
              "      filter: drop-shadow(0px 1px 2px rgba(0, 0, 0, 0.3));\n",
              "      fill: #FFFFFF;\n",
              "    }\n",
              "  </style>\n",
              "\n",
              "      <script>\n",
              "        const buttonEl =\n",
              "          document.querySelector('#df-cde694db-2ef3-4372-8746-a31dd271d8ab button.colab-df-convert');\n",
              "        buttonEl.style.display =\n",
              "          google.colab.kernel.accessAllowed ? 'block' : 'none';\n",
              "\n",
              "        async function convertToInteractive(key) {\n",
              "          const element = document.querySelector('#df-cde694db-2ef3-4372-8746-a31dd271d8ab');\n",
              "          const dataTable =\n",
              "            await google.colab.kernel.invokeFunction('convertToInteractive',\n",
              "                                                     [key], {});\n",
              "          if (!dataTable) return;\n",
              "\n",
              "          const docLinkHtml = 'Like what you see? Visit the ' +\n",
              "            '<a target=\"_blank\" href=https://colab.research.google.com/notebooks/data_table.ipynb>data table notebook</a>'\n",
              "            + ' to learn more about interactive tables.';\n",
              "          element.innerHTML = '';\n",
              "          dataTable['output_type'] = 'display_data';\n",
              "          await google.colab.output.renderOutput(dataTable, element);\n",
              "          const docLink = document.createElement('div');\n",
              "          docLink.innerHTML = docLinkHtml;\n",
              "          element.appendChild(docLink);\n",
              "        }\n",
              "      </script>\n",
              "    </div>\n",
              "  </div>\n",
              "  "
            ]
          },
          "metadata": {},
          "execution_count": 96
        }
      ]
    },
    {
      "cell_type": "markdown",
      "source": [
        "\n",
        "\n",
        "*   Distribution of temperature values is similar across different rooms.\n",
        "*  T5 - temperature outside is also similar to the inside temperature.\n",
        "*  T6 - temperature inside bathroom has high variance as temperature will vary a lot depending on usage or non usage\n",
        "\n",
        "\n"
      ],
      "metadata": {
        "id": "LZElSVb2H6T8"
      }
    },
    {
      "cell_type": "code",
      "source": [
        "# Quick look at weather data collected from the weather station\n",
        "\n",
        "df[col_weather].describe()"
      ],
      "metadata": {
        "colab": {
          "base_uri": "https://localhost:8080/",
          "height": 300
        },
        "id": "am-pwllZICMV",
        "outputId": "f19a5f15-6a51-4614-e81e-77fbb4f4b895"
      },
      "execution_count": 97,
      "outputs": [
        {
          "output_type": "execute_result",
          "data": {
            "text/plain": [
              "              T_out   Press_mm_hg        RH_out     Windspeed    Visibility  \\\n",
              "count  17597.000000  17597.000000  17597.000000  17597.000000  17597.000000   \n",
              "mean       7.302405    755.571123     80.293038      3.969010     38.310560   \n",
              "std        5.289522      7.339931     14.758579      2.447740     11.963034   \n",
              "min       -5.000000    729.366667     24.000000      0.000000      1.000000   \n",
              "25%        3.500000    751.000000     71.333333      2.000000     29.000000   \n",
              "50%        6.850000    756.100000     84.500000      3.500000     40.000000   \n",
              "75%       10.333333    760.950000     92.000000      5.333333     40.000000   \n",
              "max       26.100000    772.266667    100.000000     14.000000     66.000000   \n",
              "\n",
              "          Tdewpoint  \n",
              "count  17597.000000  \n",
              "mean       3.759867  \n",
              "std        4.187652  \n",
              "min       -6.600000  \n",
              "25%        0.933333  \n",
              "50%        3.433333  \n",
              "75%        6.550000  \n",
              "max       15.500000  "
            ],
            "text/html": [
              "\n",
              "  <div id=\"df-4a5a9dd1-878a-4285-882e-4db996bc2a6c\">\n",
              "    <div class=\"colab-df-container\">\n",
              "      <div>\n",
              "<style scoped>\n",
              "    .dataframe tbody tr th:only-of-type {\n",
              "        vertical-align: middle;\n",
              "    }\n",
              "\n",
              "    .dataframe tbody tr th {\n",
              "        vertical-align: top;\n",
              "    }\n",
              "\n",
              "    .dataframe thead th {\n",
              "        text-align: right;\n",
              "    }\n",
              "</style>\n",
              "<table border=\"1\" class=\"dataframe\">\n",
              "  <thead>\n",
              "    <tr style=\"text-align: right;\">\n",
              "      <th></th>\n",
              "      <th>T_out</th>\n",
              "      <th>Press_mm_hg</th>\n",
              "      <th>RH_out</th>\n",
              "      <th>Windspeed</th>\n",
              "      <th>Visibility</th>\n",
              "      <th>Tdewpoint</th>\n",
              "    </tr>\n",
              "  </thead>\n",
              "  <tbody>\n",
              "    <tr>\n",
              "      <th>count</th>\n",
              "      <td>17597.000000</td>\n",
              "      <td>17597.000000</td>\n",
              "      <td>17597.000000</td>\n",
              "      <td>17597.000000</td>\n",
              "      <td>17597.000000</td>\n",
              "      <td>17597.000000</td>\n",
              "    </tr>\n",
              "    <tr>\n",
              "      <th>mean</th>\n",
              "      <td>7.302405</td>\n",
              "      <td>755.571123</td>\n",
              "      <td>80.293038</td>\n",
              "      <td>3.969010</td>\n",
              "      <td>38.310560</td>\n",
              "      <td>3.759867</td>\n",
              "    </tr>\n",
              "    <tr>\n",
              "      <th>std</th>\n",
              "      <td>5.289522</td>\n",
              "      <td>7.339931</td>\n",
              "      <td>14.758579</td>\n",
              "      <td>2.447740</td>\n",
              "      <td>11.963034</td>\n",
              "      <td>4.187652</td>\n",
              "    </tr>\n",
              "    <tr>\n",
              "      <th>min</th>\n",
              "      <td>-5.000000</td>\n",
              "      <td>729.366667</td>\n",
              "      <td>24.000000</td>\n",
              "      <td>0.000000</td>\n",
              "      <td>1.000000</td>\n",
              "      <td>-6.600000</td>\n",
              "    </tr>\n",
              "    <tr>\n",
              "      <th>25%</th>\n",
              "      <td>3.500000</td>\n",
              "      <td>751.000000</td>\n",
              "      <td>71.333333</td>\n",
              "      <td>2.000000</td>\n",
              "      <td>29.000000</td>\n",
              "      <td>0.933333</td>\n",
              "    </tr>\n",
              "    <tr>\n",
              "      <th>50%</th>\n",
              "      <td>6.850000</td>\n",
              "      <td>756.100000</td>\n",
              "      <td>84.500000</td>\n",
              "      <td>3.500000</td>\n",
              "      <td>40.000000</td>\n",
              "      <td>3.433333</td>\n",
              "    </tr>\n",
              "    <tr>\n",
              "      <th>75%</th>\n",
              "      <td>10.333333</td>\n",
              "      <td>760.950000</td>\n",
              "      <td>92.000000</td>\n",
              "      <td>5.333333</td>\n",
              "      <td>40.000000</td>\n",
              "      <td>6.550000</td>\n",
              "    </tr>\n",
              "    <tr>\n",
              "      <th>max</th>\n",
              "      <td>26.100000</td>\n",
              "      <td>772.266667</td>\n",
              "      <td>100.000000</td>\n",
              "      <td>14.000000</td>\n",
              "      <td>66.000000</td>\n",
              "      <td>15.500000</td>\n",
              "    </tr>\n",
              "  </tbody>\n",
              "</table>\n",
              "</div>\n",
              "      <button class=\"colab-df-convert\" onclick=\"convertToInteractive('df-4a5a9dd1-878a-4285-882e-4db996bc2a6c')\"\n",
              "              title=\"Convert this dataframe to an interactive table.\"\n",
              "              style=\"display:none;\">\n",
              "        \n",
              "  <svg xmlns=\"http://www.w3.org/2000/svg\" height=\"24px\"viewBox=\"0 0 24 24\"\n",
              "       width=\"24px\">\n",
              "    <path d=\"M0 0h24v24H0V0z\" fill=\"none\"/>\n",
              "    <path d=\"M18.56 5.44l.94 2.06.94-2.06 2.06-.94-2.06-.94-.94-2.06-.94 2.06-2.06.94zm-11 1L8.5 8.5l.94-2.06 2.06-.94-2.06-.94L8.5 2.5l-.94 2.06-2.06.94zm10 10l.94 2.06.94-2.06 2.06-.94-2.06-.94-.94-2.06-.94 2.06-2.06.94z\"/><path d=\"M17.41 7.96l-1.37-1.37c-.4-.4-.92-.59-1.43-.59-.52 0-1.04.2-1.43.59L10.3 9.45l-7.72 7.72c-.78.78-.78 2.05 0 2.83L4 21.41c.39.39.9.59 1.41.59.51 0 1.02-.2 1.41-.59l7.78-7.78 2.81-2.81c.8-.78.8-2.07 0-2.86zM5.41 20L4 18.59l7.72-7.72 1.47 1.35L5.41 20z\"/>\n",
              "  </svg>\n",
              "      </button>\n",
              "      \n",
              "  <style>\n",
              "    .colab-df-container {\n",
              "      display:flex;\n",
              "      flex-wrap:wrap;\n",
              "      gap: 12px;\n",
              "    }\n",
              "\n",
              "    .colab-df-convert {\n",
              "      background-color: #E8F0FE;\n",
              "      border: none;\n",
              "      border-radius: 50%;\n",
              "      cursor: pointer;\n",
              "      display: none;\n",
              "      fill: #1967D2;\n",
              "      height: 32px;\n",
              "      padding: 0 0 0 0;\n",
              "      width: 32px;\n",
              "    }\n",
              "\n",
              "    .colab-df-convert:hover {\n",
              "      background-color: #E2EBFA;\n",
              "      box-shadow: 0px 1px 2px rgba(60, 64, 67, 0.3), 0px 1px 3px 1px rgba(60, 64, 67, 0.15);\n",
              "      fill: #174EA6;\n",
              "    }\n",
              "\n",
              "    [theme=dark] .colab-df-convert {\n",
              "      background-color: #3B4455;\n",
              "      fill: #D2E3FC;\n",
              "    }\n",
              "\n",
              "    [theme=dark] .colab-df-convert:hover {\n",
              "      background-color: #434B5C;\n",
              "      box-shadow: 0px 1px 3px 1px rgba(0, 0, 0, 0.15);\n",
              "      filter: drop-shadow(0px 1px 2px rgba(0, 0, 0, 0.3));\n",
              "      fill: #FFFFFF;\n",
              "    }\n",
              "  </style>\n",
              "\n",
              "      <script>\n",
              "        const buttonEl =\n",
              "          document.querySelector('#df-4a5a9dd1-878a-4285-882e-4db996bc2a6c button.colab-df-convert');\n",
              "        buttonEl.style.display =\n",
              "          google.colab.kernel.accessAllowed ? 'block' : 'none';\n",
              "\n",
              "        async function convertToInteractive(key) {\n",
              "          const element = document.querySelector('#df-4a5a9dd1-878a-4285-882e-4db996bc2a6c');\n",
              "          const dataTable =\n",
              "            await google.colab.kernel.invokeFunction('convertToInteractive',\n",
              "                                                     [key], {});\n",
              "          if (!dataTable) return;\n",
              "\n",
              "          const docLinkHtml = 'Like what you see? Visit the ' +\n",
              "            '<a target=\"_blank\" href=https://colab.research.google.com/notebooks/data_table.ipynb>data table notebook</a>'\n",
              "            + ' to learn more about interactive tables.';\n",
              "          element.innerHTML = '';\n",
              "          dataTable['output_type'] = 'display_data';\n",
              "          await google.colab.output.renderOutput(dataTable, element);\n",
              "          const docLink = document.createElement('div');\n",
              "          docLink.innerHTML = docLinkHtml;\n",
              "          element.appendChild(docLink);\n",
              "        }\n",
              "      </script>\n",
              "    </div>\n",
              "  </div>\n",
              "  "
            ]
          },
          "metadata": {},
          "execution_count": 97
        }
      ]
    },
    {
      "cell_type": "code",
      "source": [
        "# Quick look at the dependant variable\n",
        "\n",
        "df[['Appliances']].describe()"
      ],
      "metadata": {
        "colab": {
          "base_uri": "https://localhost:8080/",
          "height": 300
        },
        "id": "za3mvsndIE14",
        "outputId": "35285f2d-05c9-4495-f932-90b4dd9638cf"
      },
      "execution_count": 98,
      "outputs": [
        {
          "output_type": "execute_result",
          "data": {
            "text/plain": [
              "         Appliances\n",
              "count  17597.000000\n",
              "mean      67.209752\n",
              "std       28.480499\n",
              "min       10.000000\n",
              "25%       50.000000\n",
              "50%       60.000000\n",
              "75%       80.000000\n",
              "max      170.000000"
            ],
            "text/html": [
              "\n",
              "  <div id=\"df-aa3a8be1-d7aa-44f4-b918-12334c5bb735\">\n",
              "    <div class=\"colab-df-container\">\n",
              "      <div>\n",
              "<style scoped>\n",
              "    .dataframe tbody tr th:only-of-type {\n",
              "        vertical-align: middle;\n",
              "    }\n",
              "\n",
              "    .dataframe tbody tr th {\n",
              "        vertical-align: top;\n",
              "    }\n",
              "\n",
              "    .dataframe thead th {\n",
              "        text-align: right;\n",
              "    }\n",
              "</style>\n",
              "<table border=\"1\" class=\"dataframe\">\n",
              "  <thead>\n",
              "    <tr style=\"text-align: right;\">\n",
              "      <th></th>\n",
              "      <th>Appliances</th>\n",
              "    </tr>\n",
              "  </thead>\n",
              "  <tbody>\n",
              "    <tr>\n",
              "      <th>count</th>\n",
              "      <td>17597.000000</td>\n",
              "    </tr>\n",
              "    <tr>\n",
              "      <th>mean</th>\n",
              "      <td>67.209752</td>\n",
              "    </tr>\n",
              "    <tr>\n",
              "      <th>std</th>\n",
              "      <td>28.480499</td>\n",
              "    </tr>\n",
              "    <tr>\n",
              "      <th>min</th>\n",
              "      <td>10.000000</td>\n",
              "    </tr>\n",
              "    <tr>\n",
              "      <th>25%</th>\n",
              "      <td>50.000000</td>\n",
              "    </tr>\n",
              "    <tr>\n",
              "      <th>50%</th>\n",
              "      <td>60.000000</td>\n",
              "    </tr>\n",
              "    <tr>\n",
              "      <th>75%</th>\n",
              "      <td>80.000000</td>\n",
              "    </tr>\n",
              "    <tr>\n",
              "      <th>max</th>\n",
              "      <td>170.000000</td>\n",
              "    </tr>\n",
              "  </tbody>\n",
              "</table>\n",
              "</div>\n",
              "      <button class=\"colab-df-convert\" onclick=\"convertToInteractive('df-aa3a8be1-d7aa-44f4-b918-12334c5bb735')\"\n",
              "              title=\"Convert this dataframe to an interactive table.\"\n",
              "              style=\"display:none;\">\n",
              "        \n",
              "  <svg xmlns=\"http://www.w3.org/2000/svg\" height=\"24px\"viewBox=\"0 0 24 24\"\n",
              "       width=\"24px\">\n",
              "    <path d=\"M0 0h24v24H0V0z\" fill=\"none\"/>\n",
              "    <path d=\"M18.56 5.44l.94 2.06.94-2.06 2.06-.94-2.06-.94-.94-2.06-.94 2.06-2.06.94zm-11 1L8.5 8.5l.94-2.06 2.06-.94-2.06-.94L8.5 2.5l-.94 2.06-2.06.94zm10 10l.94 2.06.94-2.06 2.06-.94-2.06-.94-.94-2.06-.94 2.06-2.06.94z\"/><path d=\"M17.41 7.96l-1.37-1.37c-.4-.4-.92-.59-1.43-.59-.52 0-1.04.2-1.43.59L10.3 9.45l-7.72 7.72c-.78.78-.78 2.05 0 2.83L4 21.41c.39.39.9.59 1.41.59.51 0 1.02-.2 1.41-.59l7.78-7.78 2.81-2.81c.8-.78.8-2.07 0-2.86zM5.41 20L4 18.59l7.72-7.72 1.47 1.35L5.41 20z\"/>\n",
              "  </svg>\n",
              "      </button>\n",
              "      \n",
              "  <style>\n",
              "    .colab-df-container {\n",
              "      display:flex;\n",
              "      flex-wrap:wrap;\n",
              "      gap: 12px;\n",
              "    }\n",
              "\n",
              "    .colab-df-convert {\n",
              "      background-color: #E8F0FE;\n",
              "      border: none;\n",
              "      border-radius: 50%;\n",
              "      cursor: pointer;\n",
              "      display: none;\n",
              "      fill: #1967D2;\n",
              "      height: 32px;\n",
              "      padding: 0 0 0 0;\n",
              "      width: 32px;\n",
              "    }\n",
              "\n",
              "    .colab-df-convert:hover {\n",
              "      background-color: #E2EBFA;\n",
              "      box-shadow: 0px 1px 2px rgba(60, 64, 67, 0.3), 0px 1px 3px 1px rgba(60, 64, 67, 0.15);\n",
              "      fill: #174EA6;\n",
              "    }\n",
              "\n",
              "    [theme=dark] .colab-df-convert {\n",
              "      background-color: #3B4455;\n",
              "      fill: #D2E3FC;\n",
              "    }\n",
              "\n",
              "    [theme=dark] .colab-df-convert:hover {\n",
              "      background-color: #434B5C;\n",
              "      box-shadow: 0px 1px 3px 1px rgba(0, 0, 0, 0.15);\n",
              "      filter: drop-shadow(0px 1px 2px rgba(0, 0, 0, 0.3));\n",
              "      fill: #FFFFFF;\n",
              "    }\n",
              "  </style>\n",
              "\n",
              "      <script>\n",
              "        const buttonEl =\n",
              "          document.querySelector('#df-aa3a8be1-d7aa-44f4-b918-12334c5bb735 button.colab-df-convert');\n",
              "        buttonEl.style.display =\n",
              "          google.colab.kernel.accessAllowed ? 'block' : 'none';\n",
              "\n",
              "        async function convertToInteractive(key) {\n",
              "          const element = document.querySelector('#df-aa3a8be1-d7aa-44f4-b918-12334c5bb735');\n",
              "          const dataTable =\n",
              "            await google.colab.kernel.invokeFunction('convertToInteractive',\n",
              "                                                     [key], {});\n",
              "          if (!dataTable) return;\n",
              "\n",
              "          const docLinkHtml = 'Like what you see? Visit the ' +\n",
              "            '<a target=\"_blank\" href=https://colab.research.google.com/notebooks/data_table.ipynb>data table notebook</a>'\n",
              "            + ' to learn more about interactive tables.';\n",
              "          element.innerHTML = '';\n",
              "          dataTable['output_type'] = 'display_data';\n",
              "          await google.colab.output.renderOutput(dataTable, element);\n",
              "          const docLink = document.createElement('div');\n",
              "          docLink.innerHTML = docLinkHtml;\n",
              "          element.appendChild(docLink);\n",
              "        }\n",
              "      </script>\n",
              "    </div>\n",
              "  </div>\n",
              "  "
            ]
          },
          "metadata": {},
          "execution_count": 98
        }
      ]
    },
    {
      "cell_type": "code",
      "source": [
        "# Quick look at the lights column\n",
        "\n",
        "df[['lights']].describe()"
      ],
      "metadata": {
        "colab": {
          "base_uri": "https://localhost:8080/",
          "height": 300
        },
        "id": "gxThWaUnIIZx",
        "outputId": "4cc9bca3-dd29-4ad2-bf3a-717f817d3e37"
      },
      "execution_count": 99,
      "outputs": [
        {
          "output_type": "execute_result",
          "data": {
            "text/plain": [
              "             lights\n",
              "count  17597.000000\n",
              "mean       3.426152\n",
              "std        7.528597\n",
              "min        0.000000\n",
              "25%        0.000000\n",
              "50%        0.000000\n",
              "75%        0.000000\n",
              "max       50.000000"
            ],
            "text/html": [
              "\n",
              "  <div id=\"df-8d3c4bf7-66a4-442d-bacd-da46a457bf0e\">\n",
              "    <div class=\"colab-df-container\">\n",
              "      <div>\n",
              "<style scoped>\n",
              "    .dataframe tbody tr th:only-of-type {\n",
              "        vertical-align: middle;\n",
              "    }\n",
              "\n",
              "    .dataframe tbody tr th {\n",
              "        vertical-align: top;\n",
              "    }\n",
              "\n",
              "    .dataframe thead th {\n",
              "        text-align: right;\n",
              "    }\n",
              "</style>\n",
              "<table border=\"1\" class=\"dataframe\">\n",
              "  <thead>\n",
              "    <tr style=\"text-align: right;\">\n",
              "      <th></th>\n",
              "      <th>lights</th>\n",
              "    </tr>\n",
              "  </thead>\n",
              "  <tbody>\n",
              "    <tr>\n",
              "      <th>count</th>\n",
              "      <td>17597.000000</td>\n",
              "    </tr>\n",
              "    <tr>\n",
              "      <th>mean</th>\n",
              "      <td>3.426152</td>\n",
              "    </tr>\n",
              "    <tr>\n",
              "      <th>std</th>\n",
              "      <td>7.528597</td>\n",
              "    </tr>\n",
              "    <tr>\n",
              "      <th>min</th>\n",
              "      <td>0.000000</td>\n",
              "    </tr>\n",
              "    <tr>\n",
              "      <th>25%</th>\n",
              "      <td>0.000000</td>\n",
              "    </tr>\n",
              "    <tr>\n",
              "      <th>50%</th>\n",
              "      <td>0.000000</td>\n",
              "    </tr>\n",
              "    <tr>\n",
              "      <th>75%</th>\n",
              "      <td>0.000000</td>\n",
              "    </tr>\n",
              "    <tr>\n",
              "      <th>max</th>\n",
              "      <td>50.000000</td>\n",
              "    </tr>\n",
              "  </tbody>\n",
              "</table>\n",
              "</div>\n",
              "      <button class=\"colab-df-convert\" onclick=\"convertToInteractive('df-8d3c4bf7-66a4-442d-bacd-da46a457bf0e')\"\n",
              "              title=\"Convert this dataframe to an interactive table.\"\n",
              "              style=\"display:none;\">\n",
              "        \n",
              "  <svg xmlns=\"http://www.w3.org/2000/svg\" height=\"24px\"viewBox=\"0 0 24 24\"\n",
              "       width=\"24px\">\n",
              "    <path d=\"M0 0h24v24H0V0z\" fill=\"none\"/>\n",
              "    <path d=\"M18.56 5.44l.94 2.06.94-2.06 2.06-.94-2.06-.94-.94-2.06-.94 2.06-2.06.94zm-11 1L8.5 8.5l.94-2.06 2.06-.94-2.06-.94L8.5 2.5l-.94 2.06-2.06.94zm10 10l.94 2.06.94-2.06 2.06-.94-2.06-.94-.94-2.06-.94 2.06-2.06.94z\"/><path d=\"M17.41 7.96l-1.37-1.37c-.4-.4-.92-.59-1.43-.59-.52 0-1.04.2-1.43.59L10.3 9.45l-7.72 7.72c-.78.78-.78 2.05 0 2.83L4 21.41c.39.39.9.59 1.41.59.51 0 1.02-.2 1.41-.59l7.78-7.78 2.81-2.81c.8-.78.8-2.07 0-2.86zM5.41 20L4 18.59l7.72-7.72 1.47 1.35L5.41 20z\"/>\n",
              "  </svg>\n",
              "      </button>\n",
              "      \n",
              "  <style>\n",
              "    .colab-df-container {\n",
              "      display:flex;\n",
              "      flex-wrap:wrap;\n",
              "      gap: 12px;\n",
              "    }\n",
              "\n",
              "    .colab-df-convert {\n",
              "      background-color: #E8F0FE;\n",
              "      border: none;\n",
              "      border-radius: 50%;\n",
              "      cursor: pointer;\n",
              "      display: none;\n",
              "      fill: #1967D2;\n",
              "      height: 32px;\n",
              "      padding: 0 0 0 0;\n",
              "      width: 32px;\n",
              "    }\n",
              "\n",
              "    .colab-df-convert:hover {\n",
              "      background-color: #E2EBFA;\n",
              "      box-shadow: 0px 1px 2px rgba(60, 64, 67, 0.3), 0px 1px 3px 1px rgba(60, 64, 67, 0.15);\n",
              "      fill: #174EA6;\n",
              "    }\n",
              "\n",
              "    [theme=dark] .colab-df-convert {\n",
              "      background-color: #3B4455;\n",
              "      fill: #D2E3FC;\n",
              "    }\n",
              "\n",
              "    [theme=dark] .colab-df-convert:hover {\n",
              "      background-color: #434B5C;\n",
              "      box-shadow: 0px 1px 3px 1px rgba(0, 0, 0, 0.15);\n",
              "      filter: drop-shadow(0px 1px 2px rgba(0, 0, 0, 0.3));\n",
              "      fill: #FFFFFF;\n",
              "    }\n",
              "  </style>\n",
              "\n",
              "      <script>\n",
              "        const buttonEl =\n",
              "          document.querySelector('#df-8d3c4bf7-66a4-442d-bacd-da46a457bf0e button.colab-df-convert');\n",
              "        buttonEl.style.display =\n",
              "          google.colab.kernel.accessAllowed ? 'block' : 'none';\n",
              "\n",
              "        async function convertToInteractive(key) {\n",
              "          const element = document.querySelector('#df-8d3c4bf7-66a4-442d-bacd-da46a457bf0e');\n",
              "          const dataTable =\n",
              "            await google.colab.kernel.invokeFunction('convertToInteractive',\n",
              "                                                     [key], {});\n",
              "          if (!dataTable) return;\n",
              "\n",
              "          const docLinkHtml = 'Like what you see? Visit the ' +\n",
              "            '<a target=\"_blank\" href=https://colab.research.google.com/notebooks/data_table.ipynb>data table notebook</a>'\n",
              "            + ' to learn more about interactive tables.';\n",
              "          element.innerHTML = '';\n",
              "          dataTable['output_type'] = 'display_data';\n",
              "          await google.colab.output.renderOutput(dataTable, element);\n",
              "          const docLink = document.createElement('div');\n",
              "          docLink.innerHTML = docLinkHtml;\n",
              "          element.appendChild(docLink);\n",
              "        }\n",
              "      </script>\n",
              "    </div>\n",
              "  </div>\n",
              "  "
            ]
          },
          "metadata": {},
          "execution_count": 99
        }
      ]
    },
    {
      "cell_type": "markdown",
      "source": [
        "**Exploratory Data Analysis**"
      ],
      "metadata": {
        "id": "myezWI_wIQRw"
      }
    },
    {
      "cell_type": "markdown",
      "source": [
        "**Distribution of our appliances energy usage :**"
      ],
      "metadata": {
        "id": "j3RbH-GxTLR7"
      }
    },
    {
      "cell_type": "code",
      "source": [
        "df.Appliances.describe()"
      ],
      "metadata": {
        "colab": {
          "base_uri": "https://localhost:8080/"
        },
        "id": "iTO6kZe5TOT1",
        "outputId": "f989f897-8b33-4d28-db27-6f1d7c501885"
      },
      "execution_count": 100,
      "outputs": [
        {
          "output_type": "execute_result",
          "data": {
            "text/plain": [
              "count    17597.000000\n",
              "mean        67.209752\n",
              "std         28.480499\n",
              "min         10.000000\n",
              "25%         50.000000\n",
              "50%         60.000000\n",
              "75%         80.000000\n",
              "max        170.000000\n",
              "Name: Appliances, dtype: float64"
            ]
          },
          "metadata": {},
          "execution_count": 100
        }
      ]
    },
    {
      "cell_type": "code",
      "source": [
        "sns.histplot(df['Appliances'],bins=50)"
      ],
      "metadata": {
        "colab": {
          "base_uri": "https://localhost:8080/",
          "height": 296
        },
        "id": "eqCP8Vu3TnKV",
        "outputId": "80d44e7b-065b-4447-9025-f4e09bf7be68"
      },
      "execution_count": 101,
      "outputs": [
        {
          "output_type": "execute_result",
          "data": {
            "text/plain": [
              "<matplotlib.axes._subplots.AxesSubplot at 0x7ff67a421bd0>"
            ]
          },
          "metadata": {},
          "execution_count": 101
        },
        {
          "output_type": "display_data",
          "data": {
            "text/plain": [
              "<Figure size 432x288 with 1 Axes>"
            ],
            "image/png": "[encoded data removed]"
          },
          "metadata": {
            "needs_background": "light"
          }
        }
      ]
    },
    {
      "cell_type": "markdown",
      "source": [
        "**75% of the time Appliances consumed less than 100 Wh, With the maximun consumption of 1080 Wh. Also there are small no instances where consumption is on higherside.**"
      ],
      "metadata": {
        "id": "IDzNoiZhULTJ"
      }
    },
    {
      "cell_type": "markdown",
      "source": [
        "Dependent Variable - Appliances"
      ],
      "metadata": {
        "id": "Z9IE0hZtIUFc"
      }
    },
    {
      "cell_type": "code",
      "source": [
        "f, axes = plt.subplots(1, 2, figsize=(15,7))\n",
        "\n",
        "f.suptitle('Distribution of Appliances')\n",
        "sns.histplot(data=df, x='Appliances', ax=axes[0])\n",
        "sns.boxplot(data=df, x='Appliances', ax=axes[1])\n",
        "\n",
        "plt.show()"
      ],
      "metadata": {
        "colab": {
          "base_uri": "https://localhost:8080/",
          "height": 493
        },
        "id": "ud_SvEQxIXW3",
        "outputId": "2200d36a-cc38-4027-cacd-2324de9b890a"
      },
      "execution_count": 102,
      "outputs": [
        {
          "output_type": "display_data",
          "data": {
            "text/plain": [
              "<Figure size 1080x504 with 2 Axes>"
            ],
            "image/png": "[encoded data removed]"
          },
          "metadata": {
            "needs_background": "light"
          }
        }
      ]
    },
    {
      "cell_type": "markdown",
      "source": [
        "Distribution is highly right skewed. Also, we can see there are outliers."
      ],
      "metadata": {
        "id": "o2shGyxvIdpz"
      }
    },
    {
      "cell_type": "code",
      "source": [
        "# Using log transformation to treat the skewness\n",
        "\n",
        "f, axes = plt.subplots(1, 2, figsize=(15,7))\n",
        "\n",
        "f.suptitle('Distribution of Appliances')\n",
        "sns.distplot(df['Appliances'], hist=True, ax=axes[0])\n",
        "sns.distplot(np.log(df['Appliances']), hist=True, ax=axes[1])\n",
        "\n",
        "plt.show()"
      ],
      "metadata": {
        "colab": {
          "base_uri": "https://localhost:8080/",
          "height": 493
        },
        "id": "iMJZm7-TIeRz",
        "outputId": "624e54d3-0ba0-40ba-8e5f-ad5c520aa2ef"
      },
      "execution_count": 103,
      "outputs": [
        {
          "output_type": "display_data",
          "data": {
            "text/plain": [
              "<Figure size 1080x504 with 2 Axes>"
            ],
            "image/png": "[encoded data removed]"
          },
          "metadata": {
            "needs_background": "light"
          }
        }
      ]
    },
    {
      "cell_type": "code",
      "source": [
        "df.lights.value_counts()"
      ],
      "metadata": {
        "colab": {
          "base_uri": "https://localhost:8080/"
        },
        "id": "i4azO_6UU5uT",
        "outputId": "5aa07038-b9cc-4ea5-8790-bd22b3e1dab7"
      },
      "execution_count": 104,
      "outputs": [
        {
          "output_type": "execute_result",
          "data": {
            "text/plain": [
              "0     13955\n",
              "10     1807\n",
              "20     1343\n",
              "30      438\n",
              "40       48\n",
              "50        6\n",
              "Name: lights, dtype: int64"
            ]
          },
          "metadata": {},
          "execution_count": 104
        }
      ]
    },
    {
      "cell_type": "markdown",
      "source": [
        "**As it is evident from the data that most of the values in light column is 0. So it wont be playing much role in our model.**\n",
        "\n",
        "**So It is better to drop this feature/column.** "
      ],
      "metadata": {
        "id": "1WUcO64XVAcZ"
      }
    },
    {
      "cell_type": "code",
      "source": [
        "df.drop('lights', axis=1, inplace = True)"
      ],
      "metadata": {
        "id": "LeNd3kjMVpgA"
      },
      "execution_count": 105,
      "outputs": []
    },
    {
      "cell_type": "markdown",
      "source": [
        "**Humidity**"
      ],
      "metadata": {
        "id": "uAqmKNmFInye"
      }
    },
    {
      "cell_type": "code",
      "source": [
        "for i, ii in enumerate(df[col_hum]):\n",
        "  plt.figure(figsize = (5,3))\n",
        "  sns.histplot(data=df, x=ii)\n",
        "  plt.title(f'Distribution of {ii}')\n",
        "  plt.show()"
      ],
      "metadata": {
        "colab": {
          "base_uri": "https://localhost:8080/",
          "height": 1000
        },
        "id": "KxR-uM7SIrVf",
        "outputId": "eb6c34ca-42db-4d14-9652-523505a8e890"
      },
      "execution_count": 106,
      "outputs": [
        {
          "output_type": "display_data",
          "data": {
            "text/plain": [
              "<Figure size 360x216 with 1 Axes>"
            ],
            "image/png": "[encoded data removed]"
          },
          "metadata": {
            "needs_background": "light"
          }
        },
        {
          "output_type": "display_data",
          "data": {
            "text/plain": [
              "<Figure size 360x216 with 1 Axes>"
            ],
            "image/png": "[encoded data removed]"
          },
          "metadata": {
            "needs_background": "light"
          }
        },
        {
          "output_type": "display_data",
          "data": {
            "text/plain": [
              "<Figure size 360x216 with 1 Axes>"
            ],
            "image/png": "[encoded data removed]"
          },
          "metadata": {
            "needs_background": "light"
          }
        },
        {
          "output_type": "display_data",
          "data": {
            "text/plain": [
              "<Figure size 360x216 with 1 Axes>"
            ],
            "image/png": "[encoded data removed]"
          },
          "metadata": {
            "needs_background": "light"
          }
        },
        {
          "output_type": "display_data",
          "data": {
            "text/plain": [
              "<Figure size 360x216 with 1 Axes>"
            ],
            "image/png": "[encoded data removed]"
          },
          "metadata": {
            "needs_background": "light"
          }
        },
        {
          "output_type": "display_data",
          "data": {
            "text/plain": [
              "<Figure size 360x216 with 1 Axes>"
            ],
            "image/png": "[encoded data removed]"
          },
          "metadata": {
            "needs_background": "light"
          }
        },
        {
          "output_type": "display_data",
          "data": {
            "text/plain": [
              "<Figure size 360x216 with 1 Axes>"
            ],
            "image/png": "[encoded data removed]"
          },
          "metadata": {
            "needs_background": "light"
          }
        },
        {
          "output_type": "display_data",
          "data": {
            "text/plain": [
              "<Figure size 360x216 with 1 Axes>"
            ],
            "image/png": "[encoded data removed]"
          },
          "metadata": {
            "needs_background": "light"
          }
        },
        {
          "output_type": "display_data",
          "data": {
            "text/plain": [
              "<Figure size 360x216 with 1 Axes>"
            ],
            "image/png": "[encoded data removed]"
          },
          "metadata": {
            "needs_background": "light"
          }
        }
      ]
    },
    {
      "cell_type": "markdown",
      "source": [
        "**Temperature**"
      ],
      "metadata": {
        "id": "vi6D91PyK_Hq"
      }
    },
    {
      "cell_type": "code",
      "source": [
        "for i, ii in enumerate(df[col_temp]):\n",
        "  plt.figure(figsize = (5,3))\n",
        "  sns.histplot(data=df, x=ii)\n",
        "  plt.title(f'Distribution of {ii}')\n",
        "  plt.show()"
      ],
      "metadata": {
        "colab": {
          "base_uri": "https://localhost:8080/",
          "height": 1000
        },
        "id": "5iutQODMJaLn",
        "outputId": "ab6b9414-00f2-424f-f997-2f43d53457f1"
      },
      "execution_count": 107,
      "outputs": [
        {
          "output_type": "display_data",
          "data": {
            "text/plain": [
              "<Figure size 360x216 with 1 Axes>"
            ],
            "image/png": "[encoded data removed]"
          },
          "metadata": {
            "needs_background": "light"
          }
        },
        {
          "output_type": "display_data",
          "data": {
            "text/plain": [
              "<Figure size 360x216 with 1 Axes>"
            ],
            "image/png": "[encoded data removed]"
          },
          "metadata": {
            "needs_background": "light"
          }
        },
        {
          "output_type": "display_data",
          "data": {
            "text/plain": [
              "<Figure size 360x216 with 1 Axes>"
            ],
            "image/png": "[encoded data removed]"
          },
          "metadata": {
            "needs_background": "light"
          }
        },
        {
          "output_type": "display_data",
          "data": {
            "text/plain": [
              "<Figure size 360x216 with 1 Axes>"
            ],
            "image/png": "[encoded data removed]"
          },
          "metadata": {
            "needs_background": "light"
          }
        },
        {
          "output_type": "display_data",
          "data": {
            "text/plain": [
              "<Figure size 360x216 with 1 Axes>"
            ],
            "image/png": "[encoded data removed]"
          },
          "metadata": {
            "needs_background": "light"
          }
        },
        {
          "output_type": "display_data",
          "data": {
            "text/plain": [
              "<Figure size 360x216 with 1 Axes>"
            ],
            "image/png": "[encoded data removed]"
          },
          "metadata": {
            "needs_background": "light"
          }
        },
        {
          "output_type": "display_data",
          "data": {
            "text/plain": [
              "<Figure size 360x216 with 1 Axes>"
            ],
            "image/png": "[encoded data removed]"
          },
          "metadata": {
            "needs_background": "light"
          }
        },
        {
          "output_type": "display_data",
          "data": {
            "text/plain": [
              "<Figure size 360x216 with 1 Axes>"
            ],
            "image/png": "[encoded data removed]"
          },
          "metadata": {
            "needs_background": "light"
          }
        },
        {
          "output_type": "display_data",
          "data": {
            "text/plain": [
              "<Figure size 360x216 with 1 Axes>"
            ],
            "image/png": "[encoded data removed]"
          },
          "metadata": {
            "needs_background": "light"
          }
        }
      ]
    },
    {
      "cell_type": "markdown",
      "source": [
        "**OutSide Weather**"
      ],
      "metadata": {
        "id": "l0v4EbLAMnU2"
      }
    },
    {
      "cell_type": "code",
      "source": [
        "for i, ii in enumerate(df[col_weather]):\n",
        "  plt.figure(figsize = (10,6))\n",
        "  sns.histplot(data=df, x=ii)\n",
        "  plt.title(f'Distribution of {ii}')\n",
        "  plt.show()"
      ],
      "metadata": {
        "colab": {
          "base_uri": "https://localhost:8080/",
          "height": 1000
        },
        "id": "4qkensM_MHkD",
        "outputId": "57b301c2-5f3e-4027-8285-8da7478589de"
      },
      "execution_count": 108,
      "outputs": [
        {
          "output_type": "display_data",
          "data": {
            "text/plain": [
              "<Figure size 720x432 with 1 Axes>"
            ],
            "image/png": "[encoded data removed]"
          },
          "metadata": {
            "needs_background": "light"
          }
        },
        {
          "output_type": "display_data",
          "data": {
            "text/plain": [
              "<Figure size 720x432 with 1 Axes>"
            ],
            "image/png": "[encoded data removed]"
          },
          "metadata": {
            "needs_background": "light"
          }
        },
        {
          "output_type": "display_data",
          "data": {
            "text/plain": [
              "<Figure size 720x432 with 1 Axes>"
            ],
            "image/png": "[encoded data removed]"
          },
          "metadata": {
            "needs_background": "light"
          }
        },
        {
          "output_type": "display_data",
          "data": {
            "text/plain": [
              "<Figure size 720x432 with 1 Axes>"
            ],
            "image/png": "[encoded data removed]"
          },
          "metadata": {
            "needs_background": "light"
          }
        },
        {
          "output_type": "display_data",
          "data": {
            "text/plain": [
              "<Figure size 720x432 with 1 Axes>"
            ],
            "image/png": "[encoded data removed]"
          },
          "metadata": {
            "needs_background": "light"
          }
        },
        {
          "output_type": "display_data",
          "data": {
            "text/plain": [
              "<Figure size 720x432 with 1 Axes>"
            ],
            "image/png": "[encoded data removed]"
          },
          "metadata": {
            "needs_background": "light"
          }
        }
      ]
    },
    {
      "cell_type": "markdown",
      "source": [
        "**Correlation Plot**"
      ],
      "metadata": {
        "id": "9Aiz_3AMOYqG"
      }
    },
    {
      "cell_type": "code",
      "source": [
        "plt.figure(figsize = (20,15))\n",
        "sns.heatmap(df.iloc[:, :-2].corr(), annot = True, fmt='.1g')\n",
        "plt.show()"
      ],
      "metadata": {
        "colab": {
          "base_uri": "https://localhost:8080/",
          "height": 926
        },
        "id": "4IY71t8MMrEf",
        "outputId": "886ca4df-895b-4516-c454-755e814ff9c9"
      },
      "execution_count": 109,
      "outputs": [
        {
          "output_type": "display_data",
          "data": {
            "text/plain": [
              "<Figure size 1440x1080 with 2 Axes>"
            ],
            "image/png": "[encoded data removed]"
          },
          "metadata": {
            "needs_background": "light"
          }
        }
      ]
    },
    {
      "cell_type": "markdown",
      "source": [
        "\n",
        "\n",
        "*  None of the variables are highly correlated with the target variable.\n",
        "*  Correlations between indoor temperature and humidity is high as expected.\n",
        "*  T_out and T6 have a correlation of 1 - both are the outside temperatures. Hence we need not consider both the variables.\n",
        "*  Similary RH_out and RH_6 are outside humidity. Hence they have a high positive correlation of 0.7.\n",
        "*  RH_6 has a negative correlation with the indoor temperatures and also outdoor temperature. This is expected as temperature and relative humidity are expected to be inversely proportional.\n",
        "\n"
      ],
      "metadata": {
        "id": "5sc0-DvWOnhY"
      }
    },
    {
      "cell_type": "markdown",
      "source": [
        "**Converting dates column to month,days and hour**"
      ],
      "metadata": {
        "id": "Ys5jyzOMWmeQ"
      }
    },
    {
      "cell_type": "code",
      "source": [
        "df['dates']=pd.to_datetime(df['date'])\n",
        "df['months']=df['dates'].dt.month\n",
        "df['hour']=df['dates'].dt.hour\n",
        "df['day'] = df['dates'].dt.dayofweek"
      ],
      "metadata": {
        "id": "mJm8iIU4XLx_"
      },
      "execution_count": 110,
      "outputs": []
    },
    {
      "cell_type": "code",
      "source": [
        "df.shape"
      ],
      "metadata": {
        "colab": {
          "base_uri": "https://localhost:8080/"
        },
        "id": "BaWW529LQ0Lm",
        "outputId": "b9574a4c-81aa-4576-e789-870baf8be836"
      },
      "execution_count": 112,
      "outputs": [
        {
          "output_type": "execute_result",
          "data": {
            "text/plain": [
              "(17597, 32)"
            ]
          },
          "metadata": {},
          "execution_count": 112
        }
      ]
    },
    {
      "cell_type": "code",
      "source": [
        "x= df.groupby('hour').agg({'Appliances' : 'mean'})\n",
        "x.plot(kind='bar', title='Energy Consumption', ylabel='Appliances Energy Consumption',\n",
        "         xlabel='Hour', figsize=(8, 7))"
      ],
      "metadata": {
        "colab": {
          "base_uri": "https://localhost:8080/",
          "height": 478
        },
        "id": "GNIKRWx6biKm",
        "outputId": "4671a949-fe0d-4110-a936-052154c3565d"
      },
      "execution_count": 113,
      "outputs": [
        {
          "output_type": "execute_result",
          "data": {
            "text/plain": [
              "<matplotlib.axes._subplots.AxesSubplot at 0x7ff67aab4c50>"
            ]
          },
          "metadata": {},
          "execution_count": 113
        },
        {
          "output_type": "display_data",
          "data": {
            "text/plain": [
              "<Figure size 576x504 with 1 Axes>"
            ],
            "image/png": "[encoded data removed]"
          },
          "metadata": {
            "needs_background": "light"
          }
        }
      ]
    },
    {
      "cell_type": "markdown",
      "source": [
        "Above chart show the average distribution of energy consumed throughout the day for 4.5 months. We can clearly see that there are two peaks one at 11:00 AM which is shallow and low and the other one at 06:00 PM in the evening which is sharper as well as higher. \n",
        "\n",
        "During sleeping hours (10:00PM to 06:00AM) energy consumption is less about 50 Wh.  After about 6 AM, energy consumption starts to rise gradually up until 11 AM (probably due to morning chores). And then gradually decreases to around 100 Wh at about 3 PM. After which the energy consumption drastically shoots up up until 6 PM in the evening (probably due to requirement lights in rooms). However energy consumption of appliances reverts back to 50 Wh, as night approaches and people in the house go to bed at around 10 PM."
      ],
      "metadata": {
        "id": "TUDUPHpPZx37"
      }
    },
    {
      "cell_type": "code",
      "source": [
        "df.groupby(['months','hour']).agg({'Appliances' : 'mean'}).plot(kind='bar', title='Energy Consumption', ylabel='Appliances Energy Consumption',xlabel='Month-Hour', figsize=(25, 7))"
      ],
      "metadata": {
        "colab": {
          "base_uri": "https://localhost:8080/",
          "height": 499
        },
        "id": "k4eSZeidj_Kg",
        "outputId": "b0247cd8-019a-4c15-873f-8c8a234e872e"
      },
      "execution_count": 114,
      "outputs": [
        {
          "output_type": "execute_result",
          "data": {
            "text/plain": [
              "<matplotlib.axes._subplots.AxesSubplot at 0x7ff680473850>"
            ]
          },
          "metadata": {},
          "execution_count": 114
        },
        {
          "output_type": "display_data",
          "data": {
            "text/plain": [
              "<Figure size 1800x504 with 1 Axes>"
            ],
            "image/png": "[encoded data removed]"
          },
          "metadata": {
            "needs_background": "light"
          }
        }
      ]
    },
    {
      "cell_type": "code",
      "source": [
        "df.drop(['dates','rv1','rv2',], axis =1, inplace = True)"
      ],
      "metadata": {
        "id": "iE1RU2q5UvEz"
      },
      "execution_count": null,
      "outputs": []
    },
    {
      "cell_type": "code",
      "source": [
        "df.drop(['date'], axis =1, inplace = True)"
      ],
      "metadata": {
        "id": "Pgf6q44Wl_-P"
      },
      "execution_count": 140,
      "outputs": []
    },
    {
      "cell_type": "markdown",
      "source": [
        "**Train Test Split**"
      ],
      "metadata": {
        "id": "bvwPoih1SiLX"
      }
    },
    {
      "cell_type": "code",
      "source": [
        "Y = df['Appliances']\n",
        "df.drop([\"Appliances\"],axis=1)\n",
        "X = df"
      ],
      "metadata": {
        "id": "Y-Z5pHg1TbRb"
      },
      "execution_count": 141,
      "outputs": []
    },
    {
      "cell_type": "code",
      "source": [
        "#Split data into train and test\n",
        "X_train,X_test,Y_train,Y_test = train_test_split(X,Y , test_size = 0.25,random_state = 0)"
      ],
      "metadata": {
        "id": "2654_FwzSMHj"
      },
      "execution_count": 142,
      "outputs": []
    },
    {
      "cell_type": "code",
      "source": [
        "print(X_train.shape)\n",
        "print(X_test.shape)"
      ],
      "metadata": {
        "colab": {
          "base_uri": "https://localhost:8080/"
        },
        "id": "6Lz_l4ZKUYsT",
        "outputId": "22abee28-8610-4381-b6a0-24c34687c244"
      },
      "execution_count": 143,
      "outputs": [
        {
          "output_type": "stream",
          "name": "stdout",
          "text": [
            "(13197, 28)\n",
            "(4400, 28)\n"
          ]
        }
      ]
    },
    {
      "cell_type": "code",
      "source": [
        "# Transforming data\n",
        "scaler = MinMaxScaler()\n",
        "X_train = scaler.fit_transform(X_train)\n",
        "X_test = scaler.transform(X_test)"
      ],
      "metadata": {
        "id": "0piwEsShlsPG"
      },
      "execution_count": 144,
      "outputs": []
    },
    {
      "cell_type": "markdown",
      "source": [
        "**Fitting linear regression on the basis of new features**"
      ],
      "metadata": {
        "id": "8IAm3f7RmKqY"
      }
    },
    {
      "cell_type": "code",
      "source": [
        "reg = LinearRegression().fit(X_train, Y_train)\n",
        "reg.score(X_train,Y_train)"
      ],
      "metadata": {
        "colab": {
          "base_uri": "https://localhost:8080/"
        },
        "id": "kcBA69vDl0dt",
        "outputId": "168b4c86-46bf-4996-dced-18b68e13dee4"
      },
      "execution_count": 146,
      "outputs": [
        {
          "output_type": "execute_result",
          "data": {
            "text/plain": [
              "1.0"
            ]
          },
          "metadata": {},
          "execution_count": 146
        }
      ]
    }
  ]
}